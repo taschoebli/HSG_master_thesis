{
  "nbformat": 4,
  "nbformat_minor": 0,
  "metadata": {
    "colab": {
      "provenance": [],
      "machine_shape": "hm",
      "gpuType": "L4"
    },
    "kernelspec": {
      "name": "python3",
      "display_name": "Python 3"
    },
    "language_info": {
      "name": "python"
    },
    "accelerator": "GPU",
    "widgets": {
      "application/vnd.jupyter.widget-state+json": {
        "c692c0f9fa494c02afa5a543d5f29eda": {
          "model_module": "@jupyter-widgets/controls",
          "model_name": "HBoxModel",
          "model_module_version": "1.5.0",
          "state": {
            "_dom_classes": [],
            "_model_module": "@jupyter-widgets/controls",
            "_model_module_version": "1.5.0",
            "_model_name": "HBoxModel",
            "_view_count": null,
            "_view_module": "@jupyter-widgets/controls",
            "_view_module_version": "1.5.0",
            "_view_name": "HBoxView",
            "box_style": "",
            "children": [
              "IPY_MODEL_789852e1c12c4b8f941b13ef8d7f83e8",
              "IPY_MODEL_7c13526fc4d44f4f8bad5c47e61c40bd",
              "IPY_MODEL_7505a342005549fbb0ecf2d85c28816e"
            ],
            "layout": "IPY_MODEL_f94be468f4814df2a3a47743c829b0d3"
          }
        },
        "789852e1c12c4b8f941b13ef8d7f83e8": {
          "model_module": "@jupyter-widgets/controls",
          "model_name": "HTMLModel",
          "model_module_version": "1.5.0",
          "state": {
            "_dom_classes": [],
            "_model_module": "@jupyter-widgets/controls",
            "_model_module_version": "1.5.0",
            "_model_name": "HTMLModel",
            "_view_count": null,
            "_view_module": "@jupyter-widgets/controls",
            "_view_module_version": "1.5.0",
            "_view_name": "HTMLView",
            "description": "",
            "description_tooltip": null,
            "layout": "IPY_MODEL_69e39176f589409a9efe1738b4a1fadd",
            "placeholder": "​",
            "style": "IPY_MODEL_7d46b8f83ab349d5a6149d4e0f588079",
            "value": "config.json: 100%"
          }
        },
        "7c13526fc4d44f4f8bad5c47e61c40bd": {
          "model_module": "@jupyter-widgets/controls",
          "model_name": "FloatProgressModel",
          "model_module_version": "1.5.0",
          "state": {
            "_dom_classes": [],
            "_model_module": "@jupyter-widgets/controls",
            "_model_module_version": "1.5.0",
            "_model_name": "FloatProgressModel",
            "_view_count": null,
            "_view_module": "@jupyter-widgets/controls",
            "_view_module_version": "1.5.0",
            "_view_name": "ProgressView",
            "bar_style": "success",
            "description": "",
            "description_tooltip": null,
            "layout": "IPY_MODEL_f719b33107b0439ca366c4df9ca7bcbe",
            "max": 682,
            "min": 0,
            "orientation": "horizontal",
            "style": "IPY_MODEL_10828c752f2345ac9becaf430b33e09e",
            "value": 682
          }
        },
        "7505a342005549fbb0ecf2d85c28816e": {
          "model_module": "@jupyter-widgets/controls",
          "model_name": "HTMLModel",
          "model_module_version": "1.5.0",
          "state": {
            "_dom_classes": [],
            "_model_module": "@jupyter-widgets/controls",
            "_model_module_version": "1.5.0",
            "_model_name": "HTMLModel",
            "_view_count": null,
            "_view_module": "@jupyter-widgets/controls",
            "_view_module_version": "1.5.0",
            "_view_name": "HTMLView",
            "description": "",
            "description_tooltip": null,
            "layout": "IPY_MODEL_a4e3c72cbcd04350acff1bacf750d89d",
            "placeholder": "​",
            "style": "IPY_MODEL_d294808e284c478fb695f6750f5b31a8",
            "value": " 682/682 [00:00&lt;00:00, 85.2kB/s]"
          }
        },
        "f94be468f4814df2a3a47743c829b0d3": {
          "model_module": "@jupyter-widgets/base",
          "model_name": "LayoutModel",
          "model_module_version": "1.2.0",
          "state": {
            "_model_module": "@jupyter-widgets/base",
            "_model_module_version": "1.2.0",
            "_model_name": "LayoutModel",
            "_view_count": null,
            "_view_module": "@jupyter-widgets/base",
            "_view_module_version": "1.2.0",
            "_view_name": "LayoutView",
            "align_content": null,
            "align_items": null,
            "align_self": null,
            "border": null,
            "bottom": null,
            "display": null,
            "flex": null,
            "flex_flow": null,
            "grid_area": null,
            "grid_auto_columns": null,
            "grid_auto_flow": null,
            "grid_auto_rows": null,
            "grid_column": null,
            "grid_gap": null,
            "grid_row": null,
            "grid_template_areas": null,
            "grid_template_columns": null,
            "grid_template_rows": null,
            "height": null,
            "justify_content": null,
            "justify_items": null,
            "left": null,
            "margin": null,
            "max_height": null,
            "max_width": null,
            "min_height": null,
            "min_width": null,
            "object_fit": null,
            "object_position": null,
            "order": null,
            "overflow": null,
            "overflow_x": null,
            "overflow_y": null,
            "padding": null,
            "right": null,
            "top": null,
            "visibility": null,
            "width": null
          }
        },
        "69e39176f589409a9efe1738b4a1fadd": {
          "model_module": "@jupyter-widgets/base",
          "model_name": "LayoutModel",
          "model_module_version": "1.2.0",
          "state": {
            "_model_module": "@jupyter-widgets/base",
            "_model_module_version": "1.2.0",
            "_model_name": "LayoutModel",
            "_view_count": null,
            "_view_module": "@jupyter-widgets/base",
            "_view_module_version": "1.2.0",
            "_view_name": "LayoutView",
            "align_content": null,
            "align_items": null,
            "align_self": null,
            "border": null,
            "bottom": null,
            "display": null,
            "flex": null,
            "flex_flow": null,
            "grid_area": null,
            "grid_auto_columns": null,
            "grid_auto_flow": null,
            "grid_auto_rows": null,
            "grid_column": null,
            "grid_gap": null,
            "grid_row": null,
            "grid_template_areas": null,
            "grid_template_columns": null,
            "grid_template_rows": null,
            "height": null,
            "justify_content": null,
            "justify_items": null,
            "left": null,
            "margin": null,
            "max_height": null,
            "max_width": null,
            "min_height": null,
            "min_width": null,
            "object_fit": null,
            "object_position": null,
            "order": null,
            "overflow": null,
            "overflow_x": null,
            "overflow_y": null,
            "padding": null,
            "right": null,
            "top": null,
            "visibility": null,
            "width": null
          }
        },
        "7d46b8f83ab349d5a6149d4e0f588079": {
          "model_module": "@jupyter-widgets/controls",
          "model_name": "DescriptionStyleModel",
          "model_module_version": "1.5.0",
          "state": {
            "_model_module": "@jupyter-widgets/controls",
            "_model_module_version": "1.5.0",
            "_model_name": "DescriptionStyleModel",
            "_view_count": null,
            "_view_module": "@jupyter-widgets/base",
            "_view_module_version": "1.2.0",
            "_view_name": "StyleView",
            "description_width": ""
          }
        },
        "f719b33107b0439ca366c4df9ca7bcbe": {
          "model_module": "@jupyter-widgets/base",
          "model_name": "LayoutModel",
          "model_module_version": "1.2.0",
          "state": {
            "_model_module": "@jupyter-widgets/base",
            "_model_module_version": "1.2.0",
            "_model_name": "LayoutModel",
            "_view_count": null,
            "_view_module": "@jupyter-widgets/base",
            "_view_module_version": "1.2.0",
            "_view_name": "LayoutView",
            "align_content": null,
            "align_items": null,
            "align_self": null,
            "border": null,
            "bottom": null,
            "display": null,
            "flex": null,
            "flex_flow": null,
            "grid_area": null,
            "grid_auto_columns": null,
            "grid_auto_flow": null,
            "grid_auto_rows": null,
            "grid_column": null,
            "grid_gap": null,
            "grid_row": null,
            "grid_template_areas": null,
            "grid_template_columns": null,
            "grid_template_rows": null,
            "height": null,
            "justify_content": null,
            "justify_items": null,
            "left": null,
            "margin": null,
            "max_height": null,
            "max_width": null,
            "min_height": null,
            "min_width": null,
            "object_fit": null,
            "object_position": null,
            "order": null,
            "overflow": null,
            "overflow_x": null,
            "overflow_y": null,
            "padding": null,
            "right": null,
            "top": null,
            "visibility": null,
            "width": null
          }
        },
        "10828c752f2345ac9becaf430b33e09e": {
          "model_module": "@jupyter-widgets/controls",
          "model_name": "ProgressStyleModel",
          "model_module_version": "1.5.0",
          "state": {
            "_model_module": "@jupyter-widgets/controls",
            "_model_module_version": "1.5.0",
            "_model_name": "ProgressStyleModel",
            "_view_count": null,
            "_view_module": "@jupyter-widgets/base",
            "_view_module_version": "1.2.0",
            "_view_name": "StyleView",
            "bar_color": null,
            "description_width": ""
          }
        },
        "a4e3c72cbcd04350acff1bacf750d89d": {
          "model_module": "@jupyter-widgets/base",
          "model_name": "LayoutModel",
          "model_module_version": "1.2.0",
          "state": {
            "_model_module": "@jupyter-widgets/base",
            "_model_module_version": "1.2.0",
            "_model_name": "LayoutModel",
            "_view_count": null,
            "_view_module": "@jupyter-widgets/base",
            "_view_module_version": "1.2.0",
            "_view_name": "LayoutView",
            "align_content": null,
            "align_items": null,
            "align_self": null,
            "border": null,
            "bottom": null,
            "display": null,
            "flex": null,
            "flex_flow": null,
            "grid_area": null,
            "grid_auto_columns": null,
            "grid_auto_flow": null,
            "grid_auto_rows": null,
            "grid_column": null,
            "grid_gap": null,
            "grid_row": null,
            "grid_template_areas": null,
            "grid_template_columns": null,
            "grid_template_rows": null,
            "height": null,
            "justify_content": null,
            "justify_items": null,
            "left": null,
            "margin": null,
            "max_height": null,
            "max_width": null,
            "min_height": null,
            "min_width": null,
            "object_fit": null,
            "object_position": null,
            "order": null,
            "overflow": null,
            "overflow_x": null,
            "overflow_y": null,
            "padding": null,
            "right": null,
            "top": null,
            "visibility": null,
            "width": null
          }
        },
        "d294808e284c478fb695f6750f5b31a8": {
          "model_module": "@jupyter-widgets/controls",
          "model_name": "DescriptionStyleModel",
          "model_module_version": "1.5.0",
          "state": {
            "_model_module": "@jupyter-widgets/controls",
            "_model_module_version": "1.5.0",
            "_model_name": "DescriptionStyleModel",
            "_view_count": null,
            "_view_module": "@jupyter-widgets/base",
            "_view_module_version": "1.2.0",
            "_view_name": "StyleView",
            "description_width": ""
          }
        },
        "7da3d00790c34eb094559f2f56cdef3b": {
          "model_module": "@jupyter-widgets/controls",
          "model_name": "HBoxModel",
          "model_module_version": "1.5.0",
          "state": {
            "_dom_classes": [],
            "_model_module": "@jupyter-widgets/controls",
            "_model_module_version": "1.5.0",
            "_model_name": "HBoxModel",
            "_view_count": null,
            "_view_module": "@jupyter-widgets/controls",
            "_view_module_version": "1.5.0",
            "_view_name": "HBoxView",
            "box_style": "",
            "children": [
              "IPY_MODEL_e696a41a863549789f0d326c5e577e30",
              "IPY_MODEL_20ee53d97ddd47bbb2e4372ac3359ad0",
              "IPY_MODEL_9d612226dc024cd3a021546a689e56d6"
            ],
            "layout": "IPY_MODEL_8c206be30d3346498ceea222963742ac"
          }
        },
        "e696a41a863549789f0d326c5e577e30": {
          "model_module": "@jupyter-widgets/controls",
          "model_name": "HTMLModel",
          "model_module_version": "1.5.0",
          "state": {
            "_dom_classes": [],
            "_model_module": "@jupyter-widgets/controls",
            "_model_module_version": "1.5.0",
            "_model_name": "HTMLModel",
            "_view_count": null,
            "_view_module": "@jupyter-widgets/controls",
            "_view_module_version": "1.5.0",
            "_view_name": "HTMLView",
            "description": "",
            "description_tooltip": null,
            "layout": "IPY_MODEL_aba55279fa814d4e929fe9ed87a2058d",
            "placeholder": "​",
            "style": "IPY_MODEL_5425b07624d042feac4c708e2c29700b",
            "value": "model.safetensors: 100%"
          }
        },
        "20ee53d97ddd47bbb2e4372ac3359ad0": {
          "model_module": "@jupyter-widgets/controls",
          "model_name": "FloatProgressModel",
          "model_module_version": "1.5.0",
          "state": {
            "_dom_classes": [],
            "_model_module": "@jupyter-widgets/controls",
            "_model_module_version": "1.5.0",
            "_model_name": "FloatProgressModel",
            "_view_count": null,
            "_view_module": "@jupyter-widgets/controls",
            "_view_module_version": "1.5.0",
            "_view_name": "ProgressView",
            "bar_style": "success",
            "description": "",
            "description_tooltip": null,
            "layout": "IPY_MODEL_e9ab6e8d001c4de29cc6d089c08ac594",
            "max": 55320200,
            "min": 0,
            "orientation": "horizontal",
            "style": "IPY_MODEL_27aafc5ba7634e998c58079f4ab9d92d",
            "value": 55320200
          }
        },
        "9d612226dc024cd3a021546a689e56d6": {
          "model_module": "@jupyter-widgets/controls",
          "model_name": "HTMLModel",
          "model_module_version": "1.5.0",
          "state": {
            "_dom_classes": [],
            "_model_module": "@jupyter-widgets/controls",
            "_model_module_version": "1.5.0",
            "_model_name": "HTMLModel",
            "_view_count": null,
            "_view_module": "@jupyter-widgets/controls",
            "_view_module_version": "1.5.0",
            "_view_name": "HTMLView",
            "description": "",
            "description_tooltip": null,
            "layout": "IPY_MODEL_bd8a9a3be83b43d8a38593aae9a3ba6a",
            "placeholder": "​",
            "style": "IPY_MODEL_ca0ba4bd0db749bcaae0e04c206db1e2",
            "value": " 55.3M/55.3M [00:01&lt;00:00, 42.5MB/s]"
          }
        },
        "8c206be30d3346498ceea222963742ac": {
          "model_module": "@jupyter-widgets/base",
          "model_name": "LayoutModel",
          "model_module_version": "1.2.0",
          "state": {
            "_model_module": "@jupyter-widgets/base",
            "_model_module_version": "1.2.0",
            "_model_name": "LayoutModel",
            "_view_count": null,
            "_view_module": "@jupyter-widgets/base",
            "_view_module_version": "1.2.0",
            "_view_name": "LayoutView",
            "align_content": null,
            "align_items": null,
            "align_self": null,
            "border": null,
            "bottom": null,
            "display": null,
            "flex": null,
            "flex_flow": null,
            "grid_area": null,
            "grid_auto_columns": null,
            "grid_auto_flow": null,
            "grid_auto_rows": null,
            "grid_column": null,
            "grid_gap": null,
            "grid_row": null,
            "grid_template_areas": null,
            "grid_template_columns": null,
            "grid_template_rows": null,
            "height": null,
            "justify_content": null,
            "justify_items": null,
            "left": null,
            "margin": null,
            "max_height": null,
            "max_width": null,
            "min_height": null,
            "min_width": null,
            "object_fit": null,
            "object_position": null,
            "order": null,
            "overflow": null,
            "overflow_x": null,
            "overflow_y": null,
            "padding": null,
            "right": null,
            "top": null,
            "visibility": null,
            "width": null
          }
        },
        "aba55279fa814d4e929fe9ed87a2058d": {
          "model_module": "@jupyter-widgets/base",
          "model_name": "LayoutModel",
          "model_module_version": "1.2.0",
          "state": {
            "_model_module": "@jupyter-widgets/base",
            "_model_module_version": "1.2.0",
            "_model_name": "LayoutModel",
            "_view_count": null,
            "_view_module": "@jupyter-widgets/base",
            "_view_module_version": "1.2.0",
            "_view_name": "LayoutView",
            "align_content": null,
            "align_items": null,
            "align_self": null,
            "border": null,
            "bottom": null,
            "display": null,
            "flex": null,
            "flex_flow": null,
            "grid_area": null,
            "grid_auto_columns": null,
            "grid_auto_flow": null,
            "grid_auto_rows": null,
            "grid_column": null,
            "grid_gap": null,
            "grid_row": null,
            "grid_template_areas": null,
            "grid_template_columns": null,
            "grid_template_rows": null,
            "height": null,
            "justify_content": null,
            "justify_items": null,
            "left": null,
            "margin": null,
            "max_height": null,
            "max_width": null,
            "min_height": null,
            "min_width": null,
            "object_fit": null,
            "object_position": null,
            "order": null,
            "overflow": null,
            "overflow_x": null,
            "overflow_y": null,
            "padding": null,
            "right": null,
            "top": null,
            "visibility": null,
            "width": null
          }
        },
        "5425b07624d042feac4c708e2c29700b": {
          "model_module": "@jupyter-widgets/controls",
          "model_name": "DescriptionStyleModel",
          "model_module_version": "1.5.0",
          "state": {
            "_model_module": "@jupyter-widgets/controls",
            "_model_module_version": "1.5.0",
            "_model_name": "DescriptionStyleModel",
            "_view_count": null,
            "_view_module": "@jupyter-widgets/base",
            "_view_module_version": "1.2.0",
            "_view_name": "StyleView",
            "description_width": ""
          }
        },
        "e9ab6e8d001c4de29cc6d089c08ac594": {
          "model_module": "@jupyter-widgets/base",
          "model_name": "LayoutModel",
          "model_module_version": "1.2.0",
          "state": {
            "_model_module": "@jupyter-widgets/base",
            "_model_module_version": "1.2.0",
            "_model_name": "LayoutModel",
            "_view_count": null,
            "_view_module": "@jupyter-widgets/base",
            "_view_module_version": "1.2.0",
            "_view_name": "LayoutView",
            "align_content": null,
            "align_items": null,
            "align_self": null,
            "border": null,
            "bottom": null,
            "display": null,
            "flex": null,
            "flex_flow": null,
            "grid_area": null,
            "grid_auto_columns": null,
            "grid_auto_flow": null,
            "grid_auto_rows": null,
            "grid_column": null,
            "grid_gap": null,
            "grid_row": null,
            "grid_template_areas": null,
            "grid_template_columns": null,
            "grid_template_rows": null,
            "height": null,
            "justify_content": null,
            "justify_items": null,
            "left": null,
            "margin": null,
            "max_height": null,
            "max_width": null,
            "min_height": null,
            "min_width": null,
            "object_fit": null,
            "object_position": null,
            "order": null,
            "overflow": null,
            "overflow_x": null,
            "overflow_y": null,
            "padding": null,
            "right": null,
            "top": null,
            "visibility": null,
            "width": null
          }
        },
        "27aafc5ba7634e998c58079f4ab9d92d": {
          "model_module": "@jupyter-widgets/controls",
          "model_name": "ProgressStyleModel",
          "model_module_version": "1.5.0",
          "state": {
            "_model_module": "@jupyter-widgets/controls",
            "_model_module_version": "1.5.0",
            "_model_name": "ProgressStyleModel",
            "_view_count": null,
            "_view_module": "@jupyter-widgets/base",
            "_view_module_version": "1.2.0",
            "_view_name": "StyleView",
            "bar_color": null,
            "description_width": ""
          }
        },
        "bd8a9a3be83b43d8a38593aae9a3ba6a": {
          "model_module": "@jupyter-widgets/base",
          "model_name": "LayoutModel",
          "model_module_version": "1.2.0",
          "state": {
            "_model_module": "@jupyter-widgets/base",
            "_model_module_version": "1.2.0",
            "_model_name": "LayoutModel",
            "_view_count": null,
            "_view_module": "@jupyter-widgets/base",
            "_view_module_version": "1.2.0",
            "_view_name": "LayoutView",
            "align_content": null,
            "align_items": null,
            "align_self": null,
            "border": null,
            "bottom": null,
            "display": null,
            "flex": null,
            "flex_flow": null,
            "grid_area": null,
            "grid_auto_columns": null,
            "grid_auto_flow": null,
            "grid_auto_rows": null,
            "grid_column": null,
            "grid_gap": null,
            "grid_row": null,
            "grid_template_areas": null,
            "grid_template_columns": null,
            "grid_template_rows": null,
            "height": null,
            "justify_content": null,
            "justify_items": null,
            "left": null,
            "margin": null,
            "max_height": null,
            "max_width": null,
            "min_height": null,
            "min_width": null,
            "object_fit": null,
            "object_position": null,
            "order": null,
            "overflow": null,
            "overflow_x": null,
            "overflow_y": null,
            "padding": null,
            "right": null,
            "top": null,
            "visibility": null,
            "width": null
          }
        },
        "ca0ba4bd0db749bcaae0e04c206db1e2": {
          "model_module": "@jupyter-widgets/controls",
          "model_name": "DescriptionStyleModel",
          "model_module_version": "1.5.0",
          "state": {
            "_model_module": "@jupyter-widgets/controls",
            "_model_module_version": "1.5.0",
            "_model_name": "DescriptionStyleModel",
            "_view_count": null,
            "_view_module": "@jupyter-widgets/base",
            "_view_module_version": "1.2.0",
            "_view_name": "StyleView",
            "description_width": ""
          }
        }
      }
    }
  },
  "cells": [
    {
      "cell_type": "code",
      "source": [
        "!git clone https://github.com/taschoebli/uni2ts.git"
      ],
      "metadata": {
        "colab": {
          "base_uri": "https://localhost:8080/"
        },
        "id": "H-j4ao02E-Aq",
        "outputId": "805b0b99-321b-4db8-df11-56f3e03bdbee"
      },
      "execution_count": 1,
      "outputs": [
        {
          "output_type": "stream",
          "name": "stdout",
          "text": [
            "Cloning into 'uni2ts'...\n",
            "remote: Enumerating objects: 915, done.\u001b[K\n",
            "remote: Counting objects: 100% (458/458), done.\u001b[K\n",
            "remote: Compressing objects: 100% (206/206), done.\u001b[K\n",
            "remote: Total 915 (delta 308), reused 271 (delta 252), pack-reused 457 (from 2)\u001b[K\n",
            "Receiving objects: 100% (915/915), 8.25 MiB | 4.39 MiB/s, done.\n",
            "Resolving deltas: 100% (438/438), done.\n"
          ]
        }
      ]
    },
    {
      "cell_type": "code",
      "source": [
        "%cd uni2ts"
      ],
      "metadata": {
        "colab": {
          "base_uri": "https://localhost:8080/"
        },
        "id": "PM5AcSFRFNeA",
        "outputId": "a92c11e1-3424-4db9-dd92-41715fafd356"
      },
      "execution_count": 2,
      "outputs": [
        {
          "output_type": "stream",
          "name": "stdout",
          "text": [
            "/content/uni2ts\n"
          ]
        }
      ]
    },
    {
      "cell_type": "code",
      "source": [
        "!pip install -e '.[notebook]'"
      ],
      "metadata": {
        "id": "iDKBexsDFGPG",
        "colab": {
          "base_uri": "https://localhost:8080/",
          "height": 1000
        },
        "outputId": "507f6b35-42f3-41af-8c75-70c488c5dad8"
      },
      "execution_count": 3,
      "outputs": [
        {
          "output_type": "stream",
          "name": "stdout",
          "text": [
            "Obtaining file:///content/uni2ts\n",
            "  Installing build dependencies ... \u001b[?25l\u001b[?25hdone\n",
            "  Checking if build backend supports build_editable ... \u001b[?25l\u001b[?25hdone\n",
            "  Getting requirements to build editable ... \u001b[?25l\u001b[?25hdone\n",
            "  Installing backend dependencies ... \u001b[?25l\u001b[?25hdone\n",
            "  Preparing editable metadata (pyproject.toml) ... \u001b[?25l\u001b[?25hdone\n",
            "Collecting datasets~=2.17.1 (from uni2ts==1.2.0)\n",
            "  Downloading datasets-2.17.1-py3-none-any.whl.metadata (20 kB)\n",
            "Collecting einops==0.7.* (from uni2ts==1.2.0)\n",
            "  Downloading einops-0.7.0-py3-none-any.whl.metadata (13 kB)\n",
            "Collecting gluonts~=0.14.3 (from uni2ts==1.2.0)\n",
            "  Downloading gluonts-0.14.4-py3-none-any.whl.metadata (9.5 kB)\n",
            "Requirement already satisfied: huggingface-hub>=0.23.0 in /usr/local/lib/python3.11/dist-packages (from uni2ts==1.2.0) (0.27.1)\n",
            "Collecting hydra-core==1.3 (from uni2ts==1.2.0)\n",
            "  Downloading hydra_core-1.3.0-py3-none-any.whl.metadata (4.8 kB)\n",
            "Requirement already satisfied: jax[cpu] in /usr/local/lib/python3.11/dist-packages (from uni2ts==1.2.0) (0.4.33)\n",
            "Collecting jaxtyping~=0.2.24 (from uni2ts==1.2.0)\n",
            "  Downloading jaxtyping-0.2.37-py3-none-any.whl.metadata (6.6 kB)\n",
            "Collecting lightning>=2.0 (from uni2ts==1.2.0)\n",
            "  Downloading lightning-2.5.0.post0-py3-none-any.whl.metadata (40 kB)\n",
            "\u001b[2K     \u001b[90m━━━━━━━━━━━━━━━━━━━━━━━━━━━━━━━━━━━━━━━━\u001b[0m \u001b[32m40.4/40.4 kB\u001b[0m \u001b[31m3.4 MB/s\u001b[0m eta \u001b[36m0:00:00\u001b[0m\n",
            "\u001b[?25hCollecting multiprocess (from uni2ts==1.2.0)\n",
            "  Downloading multiprocess-0.70.17-py311-none-any.whl.metadata (7.2 kB)\n",
            "Requirement already satisfied: numpy~=1.26.0 in /usr/local/lib/python3.11/dist-packages (from uni2ts==1.2.0) (1.26.4)\n",
            "Requirement already satisfied: orjson in /usr/local/lib/python3.11/dist-packages (from uni2ts==1.2.0) (3.10.15)\n",
            "Collecting python-dotenv==1.0.0 (from uni2ts==1.2.0)\n",
            "  Downloading python_dotenv-1.0.0-py3-none-any.whl.metadata (21 kB)\n",
            "Requirement already satisfied: safetensors in /usr/local/lib/python3.11/dist-packages (from uni2ts==1.2.0) (0.5.2)\n",
            "Collecting scipy~=1.11.3 (from uni2ts==1.2.0)\n",
            "  Downloading scipy-1.11.4-cp311-cp311-manylinux_2_17_x86_64.manylinux2014_x86_64.whl.metadata (60 kB)\n",
            "\u001b[2K     \u001b[90m━━━━━━━━━━━━━━━━━━━━━━━━━━━━━━━━━━━━━━━━\u001b[0m \u001b[32m60.4/60.4 kB\u001b[0m \u001b[31m5.2 MB/s\u001b[0m eta \u001b[36m0:00:00\u001b[0m\n",
            "\u001b[?25hRequirement already satisfied: tensorboard in /usr/local/lib/python3.11/dist-packages (from uni2ts==1.2.0) (2.18.0)\n",
            "Collecting torch<2.5,>=2.1 (from uni2ts==1.2.0)\n",
            "  Downloading torch-2.4.1-cp311-cp311-manylinux1_x86_64.whl.metadata (26 kB)\n",
            "Collecting omegaconf~=2.2 (from hydra-core==1.3->uni2ts==1.2.0)\n",
            "  Downloading omegaconf-2.3.0-py3-none-any.whl.metadata (3.9 kB)\n",
            "Collecting antlr4-python3-runtime==4.9.* (from hydra-core==1.3->uni2ts==1.2.0)\n",
            "  Downloading antlr4-python3-runtime-4.9.3.tar.gz (117 kB)\n",
            "\u001b[2K     \u001b[90m━━━━━━━━━━━━━━━━━━━━━━━━━━━━━━━━━━━━━━━━\u001b[0m \u001b[32m117.0/117.0 kB\u001b[0m \u001b[31m9.4 MB/s\u001b[0m eta \u001b[36m0:00:00\u001b[0m\n",
            "\u001b[?25h  Preparing metadata (setup.py) ... \u001b[?25l\u001b[?25hdone\n",
            "Requirement already satisfied: packaging in /usr/local/lib/python3.11/dist-packages (from hydra-core==1.3->uni2ts==1.2.0) (24.2)\n",
            "Requirement already satisfied: ipywidgets in /usr/local/lib/python3.11/dist-packages (from uni2ts==1.2.0) (7.7.1)\n",
            "Collecting jupyter (from uni2ts==1.2.0)\n",
            "  Downloading jupyter-1.1.1-py2.py3-none-any.whl.metadata (2.0 kB)\n",
            "Requirement already satisfied: matplotlib in /usr/local/lib/python3.11/dist-packages (from uni2ts==1.2.0) (3.10.0)\n",
            "Requirement already satisfied: filelock in /usr/local/lib/python3.11/dist-packages (from datasets~=2.17.1->uni2ts==1.2.0) (3.17.0)\n",
            "Requirement already satisfied: pyarrow>=12.0.0 in /usr/local/lib/python3.11/dist-packages (from datasets~=2.17.1->uni2ts==1.2.0) (17.0.0)\n",
            "Collecting pyarrow-hotfix (from datasets~=2.17.1->uni2ts==1.2.0)\n",
            "  Downloading pyarrow_hotfix-0.6-py3-none-any.whl.metadata (3.6 kB)\n",
            "Collecting dill<0.3.9,>=0.3.0 (from datasets~=2.17.1->uni2ts==1.2.0)\n",
            "  Downloading dill-0.3.8-py3-none-any.whl.metadata (10 kB)\n",
            "Requirement already satisfied: pandas in /usr/local/lib/python3.11/dist-packages (from datasets~=2.17.1->uni2ts==1.2.0) (2.2.2)\n",
            "Requirement already satisfied: requests>=2.19.0 in /usr/local/lib/python3.11/dist-packages (from datasets~=2.17.1->uni2ts==1.2.0) (2.32.3)\n",
            "Requirement already satisfied: tqdm>=4.62.1 in /usr/local/lib/python3.11/dist-packages (from datasets~=2.17.1->uni2ts==1.2.0) (4.67.1)\n",
            "Collecting xxhash (from datasets~=2.17.1->uni2ts==1.2.0)\n",
            "  Downloading xxhash-3.5.0-cp311-cp311-manylinux_2_17_x86_64.manylinux2014_x86_64.whl.metadata (12 kB)\n",
            "Collecting fsspec<=2023.10.0,>=2023.1.0 (from fsspec[http]<=2023.10.0,>=2023.1.0->datasets~=2.17.1->uni2ts==1.2.0)\n",
            "  Downloading fsspec-2023.10.0-py3-none-any.whl.metadata (6.8 kB)\n",
            "Requirement already satisfied: aiohttp in /usr/local/lib/python3.11/dist-packages (from datasets~=2.17.1->uni2ts==1.2.0) (3.11.11)\n",
            "Requirement already satisfied: pyyaml>=5.1 in /usr/local/lib/python3.11/dist-packages (from datasets~=2.17.1->uni2ts==1.2.0) (6.0.2)\n",
            "Collecting pandas (from datasets~=2.17.1->uni2ts==1.2.0)\n",
            "  Downloading pandas-2.1.4-cp311-cp311-manylinux_2_17_x86_64.manylinux2014_x86_64.whl.metadata (18 kB)\n",
            "Requirement already satisfied: pydantic<3,>=1.7 in /usr/local/lib/python3.11/dist-packages (from gluonts~=0.14.3->uni2ts==1.2.0) (2.10.6)\n",
            "Requirement already satisfied: toolz~=0.10 in /usr/local/lib/python3.11/dist-packages (from gluonts~=0.14.3->uni2ts==1.2.0) (0.12.1)\n",
            "Requirement already satisfied: typing-extensions~=4.0 in /usr/local/lib/python3.11/dist-packages (from gluonts~=0.14.3->uni2ts==1.2.0) (4.12.2)\n",
            "Collecting wadler-lindig>=0.1.3 (from jaxtyping~=0.2.24->uni2ts==1.2.0)\n",
            "  Downloading wadler_lindig-0.1.3-py3-none-any.whl.metadata (17 kB)\n",
            "Collecting lightning-utilities<2.0,>=0.10.0 (from lightning>=2.0->uni2ts==1.2.0)\n",
            "  Downloading lightning_utilities-0.12.0-py3-none-any.whl.metadata (5.6 kB)\n",
            "Collecting torchmetrics<3.0,>=0.7.0 (from lightning>=2.0->uni2ts==1.2.0)\n",
            "  Downloading torchmetrics-1.6.1-py3-none-any.whl.metadata (21 kB)\n",
            "Collecting pytorch-lightning (from lightning>=2.0->uni2ts==1.2.0)\n",
            "  Downloading pytorch_lightning-2.5.0.post0-py3-none-any.whl.metadata (21 kB)\n",
            "Requirement already satisfied: sympy in /usr/local/lib/python3.11/dist-packages (from torch<2.5,>=2.1->uni2ts==1.2.0) (1.13.1)\n",
            "Requirement already satisfied: networkx in /usr/local/lib/python3.11/dist-packages (from torch<2.5,>=2.1->uni2ts==1.2.0) (3.4.2)\n",
            "Requirement already satisfied: jinja2 in /usr/local/lib/python3.11/dist-packages (from torch<2.5,>=2.1->uni2ts==1.2.0) (3.1.5)\n",
            "Collecting nvidia-cuda-nvrtc-cu12==12.1.105 (from torch<2.5,>=2.1->uni2ts==1.2.0)\n",
            "  Downloading nvidia_cuda_nvrtc_cu12-12.1.105-py3-none-manylinux1_x86_64.whl.metadata (1.5 kB)\n",
            "Collecting nvidia-cuda-runtime-cu12==12.1.105 (from torch<2.5,>=2.1->uni2ts==1.2.0)\n",
            "  Downloading nvidia_cuda_runtime_cu12-12.1.105-py3-none-manylinux1_x86_64.whl.metadata (1.5 kB)\n",
            "Collecting nvidia-cuda-cupti-cu12==12.1.105 (from torch<2.5,>=2.1->uni2ts==1.2.0)\n",
            "  Downloading nvidia_cuda_cupti_cu12-12.1.105-py3-none-manylinux1_x86_64.whl.metadata (1.6 kB)\n",
            "Collecting nvidia-cudnn-cu12==9.1.0.70 (from torch<2.5,>=2.1->uni2ts==1.2.0)\n",
            "  Downloading nvidia_cudnn_cu12-9.1.0.70-py3-none-manylinux2014_x86_64.whl.metadata (1.6 kB)\n",
            "Collecting nvidia-cublas-cu12==12.1.3.1 (from torch<2.5,>=2.1->uni2ts==1.2.0)\n",
            "  Downloading nvidia_cublas_cu12-12.1.3.1-py3-none-manylinux1_x86_64.whl.metadata (1.5 kB)\n",
            "Collecting nvidia-cufft-cu12==11.0.2.54 (from torch<2.5,>=2.1->uni2ts==1.2.0)\n",
            "  Downloading nvidia_cufft_cu12-11.0.2.54-py3-none-manylinux1_x86_64.whl.metadata (1.5 kB)\n",
            "Collecting nvidia-curand-cu12==10.3.2.106 (from torch<2.5,>=2.1->uni2ts==1.2.0)\n",
            "  Downloading nvidia_curand_cu12-10.3.2.106-py3-none-manylinux1_x86_64.whl.metadata (1.5 kB)\n",
            "Collecting nvidia-cusolver-cu12==11.4.5.107 (from torch<2.5,>=2.1->uni2ts==1.2.0)\n",
            "  Downloading nvidia_cusolver_cu12-11.4.5.107-py3-none-manylinux1_x86_64.whl.metadata (1.6 kB)\n",
            "Collecting nvidia-cusparse-cu12==12.1.0.106 (from torch<2.5,>=2.1->uni2ts==1.2.0)\n",
            "  Downloading nvidia_cusparse_cu12-12.1.0.106-py3-none-manylinux1_x86_64.whl.metadata (1.6 kB)\n",
            "Collecting nvidia-nccl-cu12==2.20.5 (from torch<2.5,>=2.1->uni2ts==1.2.0)\n",
            "  Downloading nvidia_nccl_cu12-2.20.5-py3-none-manylinux2014_x86_64.whl.metadata (1.8 kB)\n",
            "Collecting nvidia-nvtx-cu12==12.1.105 (from torch<2.5,>=2.1->uni2ts==1.2.0)\n",
            "  Downloading nvidia_nvtx_cu12-12.1.105-py3-none-manylinux1_x86_64.whl.metadata (1.7 kB)\n",
            "Collecting triton==3.0.0 (from torch<2.5,>=2.1->uni2ts==1.2.0)\n",
            "  Downloading triton-3.0.0-1-cp311-cp311-manylinux2014_x86_64.manylinux_2_17_x86_64.whl.metadata (1.3 kB)\n",
            "Requirement already satisfied: nvidia-nvjitlink-cu12 in /usr/local/lib/python3.11/dist-packages (from nvidia-cusolver-cu12==11.4.5.107->torch<2.5,>=2.1->uni2ts==1.2.0) (12.5.82)\n",
            "Requirement already satisfied: ipykernel>=4.5.1 in /usr/local/lib/python3.11/dist-packages (from ipywidgets->uni2ts==1.2.0) (5.5.6)\n",
            "Requirement already satisfied: ipython-genutils~=0.2.0 in /usr/local/lib/python3.11/dist-packages (from ipywidgets->uni2ts==1.2.0) (0.2.0)\n",
            "Requirement already satisfied: traitlets>=4.3.1 in /usr/local/lib/python3.11/dist-packages (from ipywidgets->uni2ts==1.2.0) (5.7.1)\n",
            "Requirement already satisfied: widgetsnbextension~=3.6.0 in /usr/local/lib/python3.11/dist-packages (from ipywidgets->uni2ts==1.2.0) (3.6.10)\n",
            "Requirement already satisfied: ipython>=4.0.0 in /usr/local/lib/python3.11/dist-packages (from ipywidgets->uni2ts==1.2.0) (7.34.0)\n",
            "Requirement already satisfied: jupyterlab-widgets>=1.0.0 in /usr/local/lib/python3.11/dist-packages (from ipywidgets->uni2ts==1.2.0) (3.0.13)\n",
            "Requirement already satisfied: jaxlib<=0.4.33,>=0.4.33 in /usr/local/lib/python3.11/dist-packages (from jax[cpu]->uni2ts==1.2.0) (0.4.33)\n",
            "Requirement already satisfied: ml-dtypes>=0.2.0 in /usr/local/lib/python3.11/dist-packages (from jax[cpu]->uni2ts==1.2.0) (0.4.1)\n",
            "Requirement already satisfied: opt-einsum in /usr/local/lib/python3.11/dist-packages (from jax[cpu]->uni2ts==1.2.0) (3.4.0)\n",
            "Requirement already satisfied: notebook in /usr/local/lib/python3.11/dist-packages (from jupyter->uni2ts==1.2.0) (6.5.5)\n",
            "Requirement already satisfied: jupyter-console in /usr/local/lib/python3.11/dist-packages (from jupyter->uni2ts==1.2.0) (6.1.0)\n",
            "Requirement already satisfied: nbconvert in /usr/local/lib/python3.11/dist-packages (from jupyter->uni2ts==1.2.0) (7.16.6)\n",
            "Collecting jupyterlab (from jupyter->uni2ts==1.2.0)\n",
            "  Downloading jupyterlab-4.3.5-py3-none-any.whl.metadata (16 kB)\n",
            "Requirement already satisfied: contourpy>=1.0.1 in /usr/local/lib/python3.11/dist-packages (from matplotlib->uni2ts==1.2.0) (1.3.1)\n",
            "Requirement already satisfied: cycler>=0.10 in /usr/local/lib/python3.11/dist-packages (from matplotlib->uni2ts==1.2.0) (0.12.1)\n",
            "Requirement already satisfied: fonttools>=4.22.0 in /usr/local/lib/python3.11/dist-packages (from matplotlib->uni2ts==1.2.0) (4.55.7)\n",
            "Requirement already satisfied: kiwisolver>=1.3.1 in /usr/local/lib/python3.11/dist-packages (from matplotlib->uni2ts==1.2.0) (1.4.8)\n",
            "Requirement already satisfied: pillow>=8 in /usr/local/lib/python3.11/dist-packages (from matplotlib->uni2ts==1.2.0) (11.1.0)\n",
            "Requirement already satisfied: pyparsing>=2.3.1 in /usr/local/lib/python3.11/dist-packages (from matplotlib->uni2ts==1.2.0) (3.2.1)\n",
            "Requirement already satisfied: python-dateutil>=2.7 in /usr/local/lib/python3.11/dist-packages (from matplotlib->uni2ts==1.2.0) (2.8.2)\n",
            "INFO: pip is looking at multiple versions of multiprocess to determine which version is compatible with other requirements. This could take a while.\n",
            "Collecting multiprocess (from uni2ts==1.2.0)\n",
            "  Downloading multiprocess-0.70.16-py311-none-any.whl.metadata (7.2 kB)\n",
            "Requirement already satisfied: absl-py>=0.4 in /usr/local/lib/python3.11/dist-packages (from tensorboard->uni2ts==1.2.0) (1.4.0)\n",
            "Requirement already satisfied: grpcio>=1.48.2 in /usr/local/lib/python3.11/dist-packages (from tensorboard->uni2ts==1.2.0) (1.70.0)\n",
            "Requirement already satisfied: markdown>=2.6.8 in /usr/local/lib/python3.11/dist-packages (from tensorboard->uni2ts==1.2.0) (3.7)\n",
            "Requirement already satisfied: protobuf!=4.24.0,>=3.19.6 in /usr/local/lib/python3.11/dist-packages (from tensorboard->uni2ts==1.2.0) (4.25.6)\n",
            "Requirement already satisfied: setuptools>=41.0.0 in /usr/local/lib/python3.11/dist-packages (from tensorboard->uni2ts==1.2.0) (75.1.0)\n",
            "Requirement already satisfied: six>1.9 in /usr/local/lib/python3.11/dist-packages (from tensorboard->uni2ts==1.2.0) (1.17.0)\n",
            "Requirement already satisfied: tensorboard-data-server<0.8.0,>=0.7.0 in /usr/local/lib/python3.11/dist-packages (from tensorboard->uni2ts==1.2.0) (0.7.2)\n",
            "Requirement already satisfied: werkzeug>=1.0.1 in /usr/local/lib/python3.11/dist-packages (from tensorboard->uni2ts==1.2.0) (3.1.3)\n",
            "Requirement already satisfied: aiohappyeyeballs>=2.3.0 in /usr/local/lib/python3.11/dist-packages (from aiohttp->datasets~=2.17.1->uni2ts==1.2.0) (2.4.4)\n",
            "Requirement already satisfied: aiosignal>=1.1.2 in /usr/local/lib/python3.11/dist-packages (from aiohttp->datasets~=2.17.1->uni2ts==1.2.0) (1.3.2)\n",
            "Requirement already satisfied: attrs>=17.3.0 in /usr/local/lib/python3.11/dist-packages (from aiohttp->datasets~=2.17.1->uni2ts==1.2.0) (25.1.0)\n",
            "Requirement already satisfied: frozenlist>=1.1.1 in /usr/local/lib/python3.11/dist-packages (from aiohttp->datasets~=2.17.1->uni2ts==1.2.0) (1.5.0)\n",
            "Requirement already satisfied: multidict<7.0,>=4.5 in /usr/local/lib/python3.11/dist-packages (from aiohttp->datasets~=2.17.1->uni2ts==1.2.0) (6.1.0)\n",
            "Requirement already satisfied: propcache>=0.2.0 in /usr/local/lib/python3.11/dist-packages (from aiohttp->datasets~=2.17.1->uni2ts==1.2.0) (0.2.1)\n",
            "Requirement already satisfied: yarl<2.0,>=1.17.0 in /usr/local/lib/python3.11/dist-packages (from aiohttp->datasets~=2.17.1->uni2ts==1.2.0) (1.18.3)\n",
            "Requirement already satisfied: jupyter-client in /usr/local/lib/python3.11/dist-packages (from ipykernel>=4.5.1->ipywidgets->uni2ts==1.2.0) (6.1.12)\n",
            "Requirement already satisfied: tornado>=4.2 in /usr/local/lib/python3.11/dist-packages (from ipykernel>=4.5.1->ipywidgets->uni2ts==1.2.0) (6.4.2)\n",
            "Collecting jedi>=0.16 (from ipython>=4.0.0->ipywidgets->uni2ts==1.2.0)\n",
            "  Downloading jedi-0.19.2-py2.py3-none-any.whl.metadata (22 kB)\n",
            "Requirement already satisfied: decorator in /usr/local/lib/python3.11/dist-packages (from ipython>=4.0.0->ipywidgets->uni2ts==1.2.0) (4.4.2)\n",
            "Requirement already satisfied: pickleshare in /usr/local/lib/python3.11/dist-packages (from ipython>=4.0.0->ipywidgets->uni2ts==1.2.0) (0.7.5)\n",
            "Requirement already satisfied: prompt-toolkit!=3.0.0,!=3.0.1,<3.1.0,>=2.0.0 in /usr/local/lib/python3.11/dist-packages (from ipython>=4.0.0->ipywidgets->uni2ts==1.2.0) (3.0.50)\n",
            "Requirement already satisfied: pygments in /usr/local/lib/python3.11/dist-packages (from ipython>=4.0.0->ipywidgets->uni2ts==1.2.0) (2.18.0)\n",
            "Requirement already satisfied: backcall in /usr/local/lib/python3.11/dist-packages (from ipython>=4.0.0->ipywidgets->uni2ts==1.2.0) (0.2.0)\n",
            "Requirement already satisfied: matplotlib-inline in /usr/local/lib/python3.11/dist-packages (from ipython>=4.0.0->ipywidgets->uni2ts==1.2.0) (0.1.7)\n",
            "Requirement already satisfied: pexpect>4.3 in /usr/local/lib/python3.11/dist-packages (from ipython>=4.0.0->ipywidgets->uni2ts==1.2.0) (4.9.0)\n",
            "Requirement already satisfied: pytz>=2020.1 in /usr/local/lib/python3.11/dist-packages (from pandas->datasets~=2.17.1->uni2ts==1.2.0) (2024.2)\n",
            "Requirement already satisfied: tzdata>=2022.1 in /usr/local/lib/python3.11/dist-packages (from pandas->datasets~=2.17.1->uni2ts==1.2.0) (2025.1)\n",
            "Requirement already satisfied: annotated-types>=0.6.0 in /usr/local/lib/python3.11/dist-packages (from pydantic<3,>=1.7->gluonts~=0.14.3->uni2ts==1.2.0) (0.7.0)\n",
            "Requirement already satisfied: pydantic-core==2.27.2 in /usr/local/lib/python3.11/dist-packages (from pydantic<3,>=1.7->gluonts~=0.14.3->uni2ts==1.2.0) (2.27.2)\n",
            "Requirement already satisfied: charset-normalizer<4,>=2 in /usr/local/lib/python3.11/dist-packages (from requests>=2.19.0->datasets~=2.17.1->uni2ts==1.2.0) (3.4.1)\n",
            "Requirement already satisfied: idna<4,>=2.5 in /usr/local/lib/python3.11/dist-packages (from requests>=2.19.0->datasets~=2.17.1->uni2ts==1.2.0) (3.10)\n",
            "Requirement already satisfied: urllib3<3,>=1.21.1 in /usr/local/lib/python3.11/dist-packages (from requests>=2.19.0->datasets~=2.17.1->uni2ts==1.2.0) (2.3.0)\n",
            "Requirement already satisfied: certifi>=2017.4.17 in /usr/local/lib/python3.11/dist-packages (from requests>=2.19.0->datasets~=2.17.1->uni2ts==1.2.0) (2024.12.14)\n",
            "Requirement already satisfied: MarkupSafe>=2.1.1 in /usr/local/lib/python3.11/dist-packages (from werkzeug>=1.0.1->tensorboard->uni2ts==1.2.0) (3.0.2)\n",
            "Requirement already satisfied: pyzmq<25,>=17 in /usr/local/lib/python3.11/dist-packages (from notebook->jupyter->uni2ts==1.2.0) (24.0.1)\n",
            "Requirement already satisfied: argon2-cffi in /usr/local/lib/python3.11/dist-packages (from notebook->jupyter->uni2ts==1.2.0) (23.1.0)\n",
            "Requirement already satisfied: jupyter-core>=4.6.1 in /usr/local/lib/python3.11/dist-packages (from notebook->jupyter->uni2ts==1.2.0) (5.7.2)\n",
            "Requirement already satisfied: nbformat in /usr/local/lib/python3.11/dist-packages (from notebook->jupyter->uni2ts==1.2.0) (5.10.4)\n",
            "Requirement already satisfied: nest-asyncio>=1.5 in /usr/local/lib/python3.11/dist-packages (from notebook->jupyter->uni2ts==1.2.0) (1.6.0)\n",
            "Requirement already satisfied: Send2Trash>=1.8.0 in /usr/local/lib/python3.11/dist-packages (from notebook->jupyter->uni2ts==1.2.0) (1.8.3)\n",
            "Requirement already satisfied: terminado>=0.8.3 in /usr/local/lib/python3.11/dist-packages (from notebook->jupyter->uni2ts==1.2.0) (0.18.1)\n",
            "Requirement already satisfied: prometheus-client in /usr/local/lib/python3.11/dist-packages (from notebook->jupyter->uni2ts==1.2.0) (0.21.1)\n",
            "Requirement already satisfied: nbclassic>=0.4.7 in /usr/local/lib/python3.11/dist-packages (from notebook->jupyter->uni2ts==1.2.0) (1.2.0)\n",
            "Requirement already satisfied: beautifulsoup4 in /usr/local/lib/python3.11/dist-packages (from nbconvert->jupyter->uni2ts==1.2.0) (4.12.3)\n",
            "Requirement already satisfied: bleach!=5.0.0 in /usr/local/lib/python3.11/dist-packages (from bleach[css]!=5.0.0->nbconvert->jupyter->uni2ts==1.2.0) (6.2.0)\n",
            "Requirement already satisfied: defusedxml in /usr/local/lib/python3.11/dist-packages (from nbconvert->jupyter->uni2ts==1.2.0) (0.7.1)\n",
            "Requirement already satisfied: jupyterlab-pygments in /usr/local/lib/python3.11/dist-packages (from nbconvert->jupyter->uni2ts==1.2.0) (0.3.0)\n",
            "Requirement already satisfied: mistune<4,>=2.0.3 in /usr/local/lib/python3.11/dist-packages (from nbconvert->jupyter->uni2ts==1.2.0) (3.1.1)\n",
            "Requirement already satisfied: nbclient>=0.5.0 in /usr/local/lib/python3.11/dist-packages (from nbconvert->jupyter->uni2ts==1.2.0) (0.10.2)\n",
            "Requirement already satisfied: pandocfilters>=1.4.1 in /usr/local/lib/python3.11/dist-packages (from nbconvert->jupyter->uni2ts==1.2.0) (1.5.1)\n",
            "Collecting async-lru>=1.0.0 (from jupyterlab->jupyter->uni2ts==1.2.0)\n",
            "  Downloading async_lru-2.0.4-py3-none-any.whl.metadata (4.5 kB)\n",
            "Requirement already satisfied: httpx>=0.25.0 in /usr/local/lib/python3.11/dist-packages (from jupyterlab->jupyter->uni2ts==1.2.0) (0.28.1)\n",
            "Collecting ipykernel>=4.5.1 (from ipywidgets->uni2ts==1.2.0)\n",
            "  Downloading ipykernel-6.29.5-py3-none-any.whl.metadata (6.3 kB)\n",
            "Collecting jupyter-lsp>=2.0.0 (from jupyterlab->jupyter->uni2ts==1.2.0)\n",
            "  Downloading jupyter_lsp-2.2.5-py3-none-any.whl.metadata (1.8 kB)\n",
            "Collecting jupyter-server<3,>=2.4.0 (from jupyterlab->jupyter->uni2ts==1.2.0)\n",
            "  Downloading jupyter_server-2.15.0-py3-none-any.whl.metadata (8.4 kB)\n",
            "Collecting jupyterlab-server<3,>=2.27.1 (from jupyterlab->jupyter->uni2ts==1.2.0)\n",
            "  Downloading jupyterlab_server-2.27.3-py3-none-any.whl.metadata (5.9 kB)\n",
            "Requirement already satisfied: notebook-shim>=0.2 in /usr/local/lib/python3.11/dist-packages (from jupyterlab->jupyter->uni2ts==1.2.0) (0.2.4)\n",
            "Collecting comm>=0.1.1 (from ipykernel>=4.5.1->ipywidgets->uni2ts==1.2.0)\n",
            "  Downloading comm-0.2.2-py3-none-any.whl.metadata (3.7 kB)\n",
            "Requirement already satisfied: debugpy>=1.6.5 in /usr/local/lib/python3.11/dist-packages (from ipykernel>=4.5.1->ipywidgets->uni2ts==1.2.0) (1.8.0)\n",
            "Requirement already satisfied: psutil in /usr/local/lib/python3.11/dist-packages (from ipykernel>=4.5.1->ipywidgets->uni2ts==1.2.0) (5.9.5)\n",
            "Requirement already satisfied: mpmath<1.4,>=1.1.0 in /usr/local/lib/python3.11/dist-packages (from sympy->torch<2.5,>=2.1->uni2ts==1.2.0) (1.3.0)\n",
            "Requirement already satisfied: webencodings in /usr/local/lib/python3.11/dist-packages (from bleach!=5.0.0->bleach[css]!=5.0.0->nbconvert->jupyter->uni2ts==1.2.0) (0.5.1)\n",
            "Requirement already satisfied: tinycss2<1.5,>=1.1.0 in /usr/local/lib/python3.11/dist-packages (from bleach[css]!=5.0.0->nbconvert->jupyter->uni2ts==1.2.0) (1.4.0)\n",
            "Requirement already satisfied: anyio in /usr/local/lib/python3.11/dist-packages (from httpx>=0.25.0->jupyterlab->jupyter->uni2ts==1.2.0) (3.7.1)\n",
            "Requirement already satisfied: httpcore==1.* in /usr/local/lib/python3.11/dist-packages (from httpx>=0.25.0->jupyterlab->jupyter->uni2ts==1.2.0) (1.0.7)\n",
            "Requirement already satisfied: h11<0.15,>=0.13 in /usr/local/lib/python3.11/dist-packages (from httpcore==1.*->httpx>=0.25.0->jupyterlab->jupyter->uni2ts==1.2.0) (0.14.0)\n",
            "Requirement already satisfied: parso<0.9.0,>=0.8.4 in /usr/local/lib/python3.11/dist-packages (from jedi>=0.16->ipython>=4.0.0->ipywidgets->uni2ts==1.2.0) (0.8.4)\n",
            "Requirement already satisfied: platformdirs>=2.5 in /usr/local/lib/python3.11/dist-packages (from jupyter-core>=4.6.1->notebook->jupyter->uni2ts==1.2.0) (4.3.6)\n",
            "Collecting jupyter-client<8,>=5.3.4 (from notebook->jupyter->uni2ts==1.2.0)\n",
            "  Downloading jupyter_client-7.4.9-py3-none-any.whl.metadata (8.5 kB)\n",
            "Collecting jupyter-events>=0.11.0 (from jupyter-server<3,>=2.4.0->jupyterlab->jupyter->uni2ts==1.2.0)\n",
            "  Downloading jupyter_events-0.12.0-py3-none-any.whl.metadata (5.8 kB)\n",
            "Collecting jupyter-server-terminals>=0.4.4 (from jupyter-server<3,>=2.4.0->jupyterlab->jupyter->uni2ts==1.2.0)\n",
            "  Downloading jupyter_server_terminals-0.5.3-py3-none-any.whl.metadata (5.6 kB)\n",
            "Collecting overrides>=5.0 (from jupyter-server<3,>=2.4.0->jupyterlab->jupyter->uni2ts==1.2.0)\n",
            "  Downloading overrides-7.7.0-py3-none-any.whl.metadata (5.8 kB)\n",
            "Requirement already satisfied: websocket-client>=1.7 in /usr/local/lib/python3.11/dist-packages (from jupyter-server<3,>=2.4.0->jupyterlab->jupyter->uni2ts==1.2.0) (1.8.0)\n",
            "Requirement already satisfied: argon2-cffi-bindings in /usr/local/lib/python3.11/dist-packages (from argon2-cffi->notebook->jupyter->uni2ts==1.2.0) (21.2.0)\n",
            "Requirement already satisfied: entrypoints in /usr/local/lib/python3.11/dist-packages (from jupyter-client<8,>=5.3.4->notebook->jupyter->uni2ts==1.2.0) (0.4)\n",
            "Requirement already satisfied: babel>=2.10 in /usr/local/lib/python3.11/dist-packages (from jupyterlab-server<3,>=2.27.1->jupyterlab->jupyter->uni2ts==1.2.0) (2.16.0)\n",
            "Collecting json5>=0.9.0 (from jupyterlab-server<3,>=2.27.1->jupyterlab->jupyter->uni2ts==1.2.0)\n",
            "  Downloading json5-0.10.0-py3-none-any.whl.metadata (34 kB)\n",
            "Requirement already satisfied: jsonschema>=4.18.0 in /usr/local/lib/python3.11/dist-packages (from jupyterlab-server<3,>=2.27.1->jupyterlab->jupyter->uni2ts==1.2.0) (4.23.0)\n",
            "Requirement already satisfied: fastjsonschema>=2.15 in /usr/local/lib/python3.11/dist-packages (from nbformat->notebook->jupyter->uni2ts==1.2.0) (2.21.1)\n",
            "Requirement already satisfied: ptyprocess>=0.5 in /usr/local/lib/python3.11/dist-packages (from pexpect>4.3->ipython>=4.0.0->ipywidgets->uni2ts==1.2.0) (0.7.0)\n",
            "Requirement already satisfied: wcwidth in /usr/local/lib/python3.11/dist-packages (from prompt-toolkit!=3.0.0,!=3.0.1,<3.1.0,>=2.0.0->ipython>=4.0.0->ipywidgets->uni2ts==1.2.0) (0.2.13)\n",
            "Requirement already satisfied: soupsieve>1.2 in /usr/local/lib/python3.11/dist-packages (from beautifulsoup4->nbconvert->jupyter->uni2ts==1.2.0) (2.6)\n",
            "Requirement already satisfied: sniffio>=1.1 in /usr/local/lib/python3.11/dist-packages (from anyio->httpx>=0.25.0->jupyterlab->jupyter->uni2ts==1.2.0) (1.3.1)\n",
            "Requirement already satisfied: jsonschema-specifications>=2023.03.6 in /usr/local/lib/python3.11/dist-packages (from jsonschema>=4.18.0->jupyterlab-server<3,>=2.27.1->jupyterlab->jupyter->uni2ts==1.2.0) (2024.10.1)\n",
            "Requirement already satisfied: referencing>=0.28.4 in /usr/local/lib/python3.11/dist-packages (from jsonschema>=4.18.0->jupyterlab-server<3,>=2.27.1->jupyterlab->jupyter->uni2ts==1.2.0) (0.36.2)\n",
            "Requirement already satisfied: rpds-py>=0.7.1 in /usr/local/lib/python3.11/dist-packages (from jsonschema>=4.18.0->jupyterlab-server<3,>=2.27.1->jupyterlab->jupyter->uni2ts==1.2.0) (0.22.3)\n",
            "Collecting python-json-logger>=2.0.4 (from jupyter-events>=0.11.0->jupyter-server<3,>=2.4.0->jupyterlab->jupyter->uni2ts==1.2.0)\n",
            "  Downloading python_json_logger-3.2.1-py3-none-any.whl.metadata (4.1 kB)\n",
            "Collecting rfc3339-validator (from jupyter-events>=0.11.0->jupyter-server<3,>=2.4.0->jupyterlab->jupyter->uni2ts==1.2.0)\n",
            "  Downloading rfc3339_validator-0.1.4-py2.py3-none-any.whl.metadata (1.5 kB)\n",
            "Collecting rfc3986-validator>=0.1.1 (from jupyter-events>=0.11.0->jupyter-server<3,>=2.4.0->jupyterlab->jupyter->uni2ts==1.2.0)\n",
            "  Downloading rfc3986_validator-0.1.1-py2.py3-none-any.whl.metadata (1.7 kB)\n",
            "Requirement already satisfied: cffi>=1.0.1 in /usr/local/lib/python3.11/dist-packages (from argon2-cffi-bindings->argon2-cffi->notebook->jupyter->uni2ts==1.2.0) (1.17.1)\n",
            "Requirement already satisfied: pycparser in /usr/local/lib/python3.11/dist-packages (from cffi>=1.0.1->argon2-cffi-bindings->argon2-cffi->notebook->jupyter->uni2ts==1.2.0) (2.22)\n",
            "Collecting fqdn (from jsonschema[format-nongpl]>=4.18.0->jupyter-events>=0.11.0->jupyter-server<3,>=2.4.0->jupyterlab->jupyter->uni2ts==1.2.0)\n",
            "  Downloading fqdn-1.5.1-py3-none-any.whl.metadata (1.4 kB)\n",
            "Collecting isoduration (from jsonschema[format-nongpl]>=4.18.0->jupyter-events>=0.11.0->jupyter-server<3,>=2.4.0->jupyterlab->jupyter->uni2ts==1.2.0)\n",
            "  Downloading isoduration-20.11.0-py3-none-any.whl.metadata (5.7 kB)\n",
            "Requirement already satisfied: jsonpointer>1.13 in /usr/local/lib/python3.11/dist-packages (from jsonschema[format-nongpl]>=4.18.0->jupyter-events>=0.11.0->jupyter-server<3,>=2.4.0->jupyterlab->jupyter->uni2ts==1.2.0) (3.0.0)\n",
            "Collecting uri-template (from jsonschema[format-nongpl]>=4.18.0->jupyter-events>=0.11.0->jupyter-server<3,>=2.4.0->jupyterlab->jupyter->uni2ts==1.2.0)\n",
            "  Downloading uri_template-1.3.0-py3-none-any.whl.metadata (8.8 kB)\n",
            "Requirement already satisfied: webcolors>=24.6.0 in /usr/local/lib/python3.11/dist-packages (from jsonschema[format-nongpl]>=4.18.0->jupyter-events>=0.11.0->jupyter-server<3,>=2.4.0->jupyterlab->jupyter->uni2ts==1.2.0) (24.11.1)\n",
            "Collecting arrow>=0.15.0 (from isoduration->jsonschema[format-nongpl]>=4.18.0->jupyter-events>=0.11.0->jupyter-server<3,>=2.4.0->jupyterlab->jupyter->uni2ts==1.2.0)\n",
            "  Downloading arrow-1.3.0-py3-none-any.whl.metadata (7.5 kB)\n",
            "Collecting types-python-dateutil>=2.8.10 (from arrow>=0.15.0->isoduration->jsonschema[format-nongpl]>=4.18.0->jupyter-events>=0.11.0->jupyter-server<3,>=2.4.0->jupyterlab->jupyter->uni2ts==1.2.0)\n",
            "  Downloading types_python_dateutil-2.9.0.20241206-py3-none-any.whl.metadata (2.1 kB)\n",
            "Downloading einops-0.7.0-py3-none-any.whl (44 kB)\n",
            "\u001b[2K   \u001b[90m━━━━━━━━━━━━━━━━━━━━━━━━━━━━━━━━━━━━━━━━\u001b[0m \u001b[32m44.6/44.6 kB\u001b[0m \u001b[31m3.6 MB/s\u001b[0m eta \u001b[36m0:00:00\u001b[0m\n",
            "\u001b[?25hDownloading hydra_core-1.3.0-py3-none-any.whl (153 kB)\n",
            "\u001b[2K   \u001b[90m━━━━━━━━━━━━━━━━━━━━━━━━━━━━━━━━━━━━━━━━\u001b[0m \u001b[32m153.8/153.8 kB\u001b[0m \u001b[31m12.6 MB/s\u001b[0m eta \u001b[36m0:00:00\u001b[0m\n",
            "\u001b[?25hDownloading python_dotenv-1.0.0-py3-none-any.whl (19 kB)\n",
            "Downloading datasets-2.17.1-py3-none-any.whl (536 kB)\n",
            "\u001b[2K   \u001b[90m━━━━━━━━━━━━━━━━━━━━━━━━━━━━━━━━━━━━━━━━\u001b[0m \u001b[32m536.7/536.7 kB\u001b[0m \u001b[31m29.2 MB/s\u001b[0m eta \u001b[36m0:00:00\u001b[0m\n",
            "\u001b[?25hDownloading gluonts-0.14.4-py3-none-any.whl (1.5 MB)\n",
            "\u001b[2K   \u001b[90m━━━━━━━━━━━━━━━━━━━━━━━━━━━━━━━━━━━━━━━━\u001b[0m \u001b[32m1.5/1.5 MB\u001b[0m \u001b[31m62.1 MB/s\u001b[0m eta \u001b[36m0:00:00\u001b[0m\n",
            "\u001b[?25hDownloading jaxtyping-0.2.37-py3-none-any.whl (56 kB)\n",
            "\u001b[2K   \u001b[90m━━━━━━━━━━━━━━━━━━━━━━━━━━━━━━━━━━━━━━━━\u001b[0m \u001b[32m56.3/56.3 kB\u001b[0m \u001b[31m4.4 MB/s\u001b[0m eta \u001b[36m0:00:00\u001b[0m\n",
            "\u001b[?25hDownloading lightning-2.5.0.post0-py3-none-any.whl (815 kB)\n",
            "\u001b[2K   \u001b[90m━━━━━━━━━━━━━━━━━━━━━━━━━━━━━━━━━━━━━━━━\u001b[0m \u001b[32m815.2/815.2 kB\u001b[0m \u001b[31m40.3 MB/s\u001b[0m eta \u001b[36m0:00:00\u001b[0m\n",
            "\u001b[?25hDownloading scipy-1.11.4-cp311-cp311-manylinux_2_17_x86_64.manylinux2014_x86_64.whl (36.4 MB)\n",
            "\u001b[2K   \u001b[90m━━━━━━━━━━━━━━━━━━━━━━━━━━━━━━━━━━━━━━━━\u001b[0m \u001b[32m36.4/36.4 MB\u001b[0m \u001b[31m48.0 MB/s\u001b[0m eta \u001b[36m0:00:00\u001b[0m\n",
            "\u001b[?25hDownloading torch-2.4.1-cp311-cp311-manylinux1_x86_64.whl (797.1 MB)\n",
            "\u001b[2K   \u001b[90m━━━━━━━━━━━━━━━━━━━━━━━━━━━━━━━━━━━━━━━━\u001b[0m \u001b[32m797.1/797.1 MB\u001b[0m \u001b[31m2.5 MB/s\u001b[0m eta \u001b[36m0:00:00\u001b[0m\n",
            "\u001b[?25hDownloading nvidia_cublas_cu12-12.1.3.1-py3-none-manylinux1_x86_64.whl (410.6 MB)\n",
            "\u001b[2K   \u001b[90m━━━━━━━━━━━━━━━━━━━━━━━━━━━━━━━━━━━━━━━━\u001b[0m \u001b[32m410.6/410.6 MB\u001b[0m \u001b[31m2.7 MB/s\u001b[0m eta \u001b[36m0:00:00\u001b[0m\n",
            "\u001b[?25hDownloading nvidia_cuda_cupti_cu12-12.1.105-py3-none-manylinux1_x86_64.whl (14.1 MB)\n",
            "\u001b[2K   \u001b[90m━━━━━━━━━━━━━━━━━━━━━━━━━━━━━━━━━━━━━━━━\u001b[0m \u001b[32m14.1/14.1 MB\u001b[0m \u001b[31m97.4 MB/s\u001b[0m eta \u001b[36m0:00:00\u001b[0m\n",
            "\u001b[?25hDownloading nvidia_cuda_nvrtc_cu12-12.1.105-py3-none-manylinux1_x86_64.whl (23.7 MB)\n",
            "\u001b[2K   \u001b[90m━━━━━━━━━━━━━━━━━━━━━━━━━━━━━━━━━━━━━━━━\u001b[0m \u001b[32m23.7/23.7 MB\u001b[0m \u001b[31m79.6 MB/s\u001b[0m eta \u001b[36m0:00:00\u001b[0m\n",
            "\u001b[?25hDownloading nvidia_cuda_runtime_cu12-12.1.105-py3-none-manylinux1_x86_64.whl (823 kB)\n",
            "\u001b[2K   \u001b[90m━━━━━━━━━━━━━━━━━━━━━━━━━━━━━━━━━━━━━━━━\u001b[0m \u001b[32m823.6/823.6 kB\u001b[0m \u001b[31m51.4 MB/s\u001b[0m eta \u001b[36m0:00:00\u001b[0m\n",
            "\u001b[?25hDownloading nvidia_cudnn_cu12-9.1.0.70-py3-none-manylinux2014_x86_64.whl (664.8 MB)\n",
            "\u001b[2K   \u001b[90m━━━━━━━━━━━━━━━━━━━━━━━━━━━━━━━━━━━━━━━━\u001b[0m \u001b[32m664.8/664.8 MB\u001b[0m \u001b[31m2.0 MB/s\u001b[0m eta \u001b[36m0:00:00\u001b[0m\n",
            "\u001b[?25hDownloading nvidia_cufft_cu12-11.0.2.54-py3-none-manylinux1_x86_64.whl (121.6 MB)\n",
            "\u001b[2K   \u001b[90m━━━━━━━━━━━━━━━━━━━━━━━━━━━━━━━━━━━━━━━━\u001b[0m \u001b[32m121.6/121.6 MB\u001b[0m \u001b[31m18.5 MB/s\u001b[0m eta \u001b[36m0:00:00\u001b[0m\n",
            "\u001b[?25hDownloading nvidia_curand_cu12-10.3.2.106-py3-none-manylinux1_x86_64.whl (56.5 MB)\n",
            "\u001b[2K   \u001b[90m━━━━━━━━━━━━━━━━━━━━━━━━━━━━━━━━━━━━━━━━\u001b[0m \u001b[32m56.5/56.5 MB\u001b[0m \u001b[31m40.3 MB/s\u001b[0m eta \u001b[36m0:00:00\u001b[0m\n",
            "\u001b[?25hDownloading nvidia_cusolver_cu12-11.4.5.107-py3-none-manylinux1_x86_64.whl (124.2 MB)\n",
            "\u001b[2K   \u001b[90m━━━━━━━━━━━━━━━━━━━━━━━━━━━━━━━━━━━━━━━━\u001b[0m \u001b[32m124.2/124.2 MB\u001b[0m \u001b[31m7.1 MB/s\u001b[0m eta \u001b[36m0:00:00\u001b[0m\n",
            "\u001b[?25hDownloading nvidia_cusparse_cu12-12.1.0.106-py3-none-manylinux1_x86_64.whl (196.0 MB)\n",
            "\u001b[2K   \u001b[90m━━━━━━━━━━━━━━━━━━━━━━━━━━━━━━━━━━━━━━━━\u001b[0m \u001b[32m196.0/196.0 MB\u001b[0m \u001b[31m4.3 MB/s\u001b[0m eta \u001b[36m0:00:00\u001b[0m\n",
            "\u001b[?25hDownloading nvidia_nccl_cu12-2.20.5-py3-none-manylinux2014_x86_64.whl (176.2 MB)\n",
            "\u001b[2K   \u001b[90m━━━━━━━━━━━━━━━━━━━━━━━━━━━━━━━━━━━━━━━━\u001b[0m \u001b[32m176.2/176.2 MB\u001b[0m \u001b[31m13.2 MB/s\u001b[0m eta \u001b[36m0:00:00\u001b[0m\n",
            "\u001b[?25hDownloading nvidia_nvtx_cu12-12.1.105-py3-none-manylinux1_x86_64.whl (99 kB)\n",
            "\u001b[2K   \u001b[90m━━━━━━━━━━━━━━━━━━━━━━━━━━━━━━━━━━━━━━━━\u001b[0m \u001b[32m99.1/99.1 kB\u001b[0m \u001b[31m8.4 MB/s\u001b[0m eta \u001b[36m0:00:00\u001b[0m\n",
            "\u001b[?25hDownloading triton-3.0.0-1-cp311-cp311-manylinux2014_x86_64.manylinux_2_17_x86_64.whl (209.4 MB)\n",
            "\u001b[2K   \u001b[90m━━━━━━━━━━━━━━━━━━━━━━━━━━━━━━━━━━━━━━━━\u001b[0m \u001b[32m209.4/209.4 MB\u001b[0m \u001b[31m5.0 MB/s\u001b[0m eta \u001b[36m0:00:00\u001b[0m\n",
            "\u001b[?25hDownloading jupyter-1.1.1-py2.py3-none-any.whl (2.7 kB)\n",
            "Downloading multiprocess-0.70.16-py311-none-any.whl (143 kB)\n",
            "\u001b[2K   \u001b[90m━━━━━━━━━━━━━━━━━━━━━━━━━━━━━━━━━━━━━━━━\u001b[0m \u001b[32m143.5/143.5 kB\u001b[0m \u001b[31m14.5 MB/s\u001b[0m eta \u001b[36m0:00:00\u001b[0m\n",
            "\u001b[?25hDownloading dill-0.3.8-py3-none-any.whl (116 kB)\n",
            "\u001b[2K   \u001b[90m━━━━━━━━━━━━━━━━━━━━━━━━━━━━━━━━━━━━━━━━\u001b[0m \u001b[32m116.3/116.3 kB\u001b[0m \u001b[31m10.6 MB/s\u001b[0m eta \u001b[36m0:00:00\u001b[0m\n",
            "\u001b[?25hDownloading fsspec-2023.10.0-py3-none-any.whl (166 kB)\n",
            "\u001b[2K   \u001b[90m━━━━━━━━━━━━━━━━━━━━━━━━━━━━━━━━━━━━━━━━\u001b[0m \u001b[32m166.4/166.4 kB\u001b[0m \u001b[31m15.9 MB/s\u001b[0m eta \u001b[36m0:00:00\u001b[0m\n",
            "\u001b[?25hDownloading lightning_utilities-0.12.0-py3-none-any.whl (28 kB)\n",
            "Downloading omegaconf-2.3.0-py3-none-any.whl (79 kB)\n",
            "\u001b[2K   \u001b[90m━━━━━━━━━━━━━━━━━━━━━━━━━━━━━━━━━━━━━━━━\u001b[0m \u001b[32m79.5/79.5 kB\u001b[0m \u001b[31m8.3 MB/s\u001b[0m eta \u001b[36m0:00:00\u001b[0m\n",
            "\u001b[?25hDownloading pandas-2.1.4-cp311-cp311-manylinux_2_17_x86_64.manylinux2014_x86_64.whl (12.2 MB)\n",
            "\u001b[2K   \u001b[90m━━━━━━━━━━━━━━━━━━━━━━━━━━━━━━━━━━━━━━━━\u001b[0m \u001b[32m12.2/12.2 MB\u001b[0m \u001b[31m105.8 MB/s\u001b[0m eta \u001b[36m0:00:00\u001b[0m\n",
            "\u001b[?25hDownloading torchmetrics-1.6.1-py3-none-any.whl (927 kB)\n",
            "\u001b[2K   \u001b[90m━━━━━━━━━━━━━━━━━━━━━━━━━━━━━━━━━━━━━━━━\u001b[0m \u001b[32m927.3/927.3 kB\u001b[0m \u001b[31m56.7 MB/s\u001b[0m eta \u001b[36m0:00:00\u001b[0m\n",
            "\u001b[?25hDownloading wadler_lindig-0.1.3-py3-none-any.whl (20 kB)\n",
            "Downloading jupyterlab-4.3.5-py3-none-any.whl (11.7 MB)\n",
            "\u001b[2K   \u001b[90m━━━━━━━━━━━━━━━━━━━━━━━━━━━━━━━━━━━━━━━━\u001b[0m \u001b[32m11.7/11.7 MB\u001b[0m \u001b[31m114.6 MB/s\u001b[0m eta \u001b[36m0:00:00\u001b[0m\n",
            "\u001b[?25hDownloading ipykernel-6.29.5-py3-none-any.whl (117 kB)\n",
            "\u001b[2K   \u001b[90m━━━━━━━━━━━━━━━━━━━━━━━━━━━━━━━━━━━━━━━━\u001b[0m \u001b[32m117.2/117.2 kB\u001b[0m \u001b[31m8.7 MB/s\u001b[0m eta \u001b[36m0:00:00\u001b[0m\n",
            "\u001b[?25hDownloading pyarrow_hotfix-0.6-py3-none-any.whl (7.9 kB)\n",
            "Downloading pytorch_lightning-2.5.0.post0-py3-none-any.whl (819 kB)\n",
            "\u001b[2K   \u001b[90m━━━━━━━━━━━━━━━━━━━━━━━━━━━━━━━━━━━━━━━━\u001b[0m \u001b[32m819.3/819.3 kB\u001b[0m \u001b[31m49.7 MB/s\u001b[0m eta \u001b[36m0:00:00\u001b[0m\n",
            "\u001b[?25hDownloading xxhash-3.5.0-cp311-cp311-manylinux_2_17_x86_64.manylinux2014_x86_64.whl (194 kB)\n",
            "\u001b[2K   \u001b[90m━━━━━━━━━━━━━━━━━━━━━━━━━━━━━━━━━━━━━━━━\u001b[0m \u001b[32m194.8/194.8 kB\u001b[0m \u001b[31m17.1 MB/s\u001b[0m eta \u001b[36m0:00:00\u001b[0m\n",
            "\u001b[?25hDownloading async_lru-2.0.4-py3-none-any.whl (6.1 kB)\n",
            "Downloading comm-0.2.2-py3-none-any.whl (7.2 kB)\n",
            "Downloading jedi-0.19.2-py2.py3-none-any.whl (1.6 MB)\n",
            "\u001b[2K   \u001b[90m━━━━━━━━━━━━━━━━━━━━━━━━━━━━━━━━━━━━━━━━\u001b[0m \u001b[32m1.6/1.6 MB\u001b[0m \u001b[31m72.7 MB/s\u001b[0m eta \u001b[36m0:00:00\u001b[0m\n",
            "\u001b[?25hDownloading jupyter_lsp-2.2.5-py3-none-any.whl (69 kB)\n",
            "\u001b[2K   \u001b[90m━━━━━━━━━━━━━━━━━━━━━━━━━━━━━━━━━━━━━━━━\u001b[0m \u001b[32m69.1/69.1 kB\u001b[0m \u001b[31m6.4 MB/s\u001b[0m eta \u001b[36m0:00:00\u001b[0m\n",
            "\u001b[?25hDownloading jupyter_server-2.15.0-py3-none-any.whl (385 kB)\n",
            "\u001b[2K   \u001b[90m━━━━━━━━━━━━━━━━━━━━━━━━━━━━━━━━━━━━━━━━\u001b[0m \u001b[32m385.8/385.8 kB\u001b[0m \u001b[31m31.0 MB/s\u001b[0m eta \u001b[36m0:00:00\u001b[0m\n",
            "\u001b[?25hDownloading jupyter_client-7.4.9-py3-none-any.whl (133 kB)\n",
            "\u001b[2K   \u001b[90m━━━━━━━━━━━━━━━━━━━━━━━━━━━━━━━━━━━━━━━━\u001b[0m \u001b[32m133.5/133.5 kB\u001b[0m \u001b[31m12.4 MB/s\u001b[0m eta \u001b[36m0:00:00\u001b[0m\n",
            "\u001b[?25hDownloading jupyterlab_server-2.27.3-py3-none-any.whl (59 kB)\n",
            "\u001b[2K   \u001b[90m━━━━━━━━━━━━━━━━━━━━━━━━━━━━━━━━━━━━━━━━\u001b[0m \u001b[32m59.7/59.7 kB\u001b[0m \u001b[31m5.6 MB/s\u001b[0m eta \u001b[36m0:00:00\u001b[0m\n",
            "\u001b[?25hDownloading json5-0.10.0-py3-none-any.whl (34 kB)\n",
            "Downloading jupyter_events-0.12.0-py3-none-any.whl (19 kB)\n",
            "Downloading jupyter_server_terminals-0.5.3-py3-none-any.whl (13 kB)\n",
            "Downloading overrides-7.7.0-py3-none-any.whl (17 kB)\n",
            "Downloading python_json_logger-3.2.1-py3-none-any.whl (14 kB)\n",
            "Downloading rfc3986_validator-0.1.1-py2.py3-none-any.whl (4.2 kB)\n",
            "Downloading rfc3339_validator-0.1.4-py2.py3-none-any.whl (3.5 kB)\n",
            "Downloading fqdn-1.5.1-py3-none-any.whl (9.1 kB)\n",
            "Downloading isoduration-20.11.0-py3-none-any.whl (11 kB)\n",
            "Downloading uri_template-1.3.0-py3-none-any.whl (11 kB)\n",
            "Downloading arrow-1.3.0-py3-none-any.whl (66 kB)\n",
            "\u001b[2K   \u001b[90m━━━━━━━━━━━━━━━━━━━━━━━━━━━━━━━━━━━━━━━━\u001b[0m \u001b[32m66.4/66.4 kB\u001b[0m \u001b[31m5.6 MB/s\u001b[0m eta \u001b[36m0:00:00\u001b[0m\n",
            "\u001b[?25hDownloading types_python_dateutil-2.9.0.20241206-py3-none-any.whl (14 kB)\n",
            "Building wheels for collected packages: uni2ts, antlr4-python3-runtime\n",
            "  Building editable for uni2ts (pyproject.toml) ... \u001b[?25l\u001b[?25hdone\n",
            "  Created wheel for uni2ts: filename=uni2ts-1.2.0-py3-none-any.whl size=14551 sha256=b85b0eb983365fc98a02c6147d824cc69a48de3904986b020574455762232511\n",
            "  Stored in directory: /tmp/pip-ephem-wheel-cache-8n7lie0s/wheels/e4/09/f3/135225f0ca94e25a20e8e24c54f78dd98d712c8760e0d0900a\n",
            "  Building wheel for antlr4-python3-runtime (setup.py) ... \u001b[?25l\u001b[?25hdone\n",
            "  Created wheel for antlr4-python3-runtime: filename=antlr4_python3_runtime-4.9.3-py3-none-any.whl size=144555 sha256=2c8494e28832b63ea999c2a5f576b7d1835cc0f4a7f528427e832742f0d7b625\n",
            "  Stored in directory: /root/.cache/pip/wheels/1a/97/32/461f837398029ad76911109f07047fde1d7b661a147c7c56d1\n",
            "Successfully built uni2ts antlr4-python3-runtime\n",
            "Installing collected packages: antlr4-python3-runtime, xxhash, wadler-lindig, uri-template, types-python-dateutil, triton, scipy, rfc3986-validator, rfc3339-validator, python-json-logger, python-dotenv, pyarrow-hotfix, overrides, omegaconf, nvidia-nvtx-cu12, nvidia-nccl-cu12, nvidia-cusparse-cu12, nvidia-curand-cu12, nvidia-cufft-cu12, nvidia-cuda-runtime-cu12, nvidia-cuda-nvrtc-cu12, nvidia-cuda-cupti-cu12, nvidia-cublas-cu12, lightning-utilities, json5, jedi, fsspec, fqdn, einops, dill, comm, async-lru, pandas, nvidia-cusolver-cu12, nvidia-cudnn-cu12, multiprocess, jupyter-server-terminals, jupyter-client, jaxtyping, hydra-core, arrow, torch, isoduration, ipykernel, gluonts, torchmetrics, datasets, pytorch-lightning, jupyter-events, lightning, uni2ts, jupyter-server, jupyterlab-server, jupyter-lsp, jupyterlab, jupyter\n",
            "  Attempting uninstall: triton\n",
            "    Found existing installation: triton 3.1.0\n",
            "    Uninstalling triton-3.1.0:\n",
            "      Successfully uninstalled triton-3.1.0\n",
            "  Attempting uninstall: scipy\n",
            "    Found existing installation: scipy 1.13.1\n",
            "    Uninstalling scipy-1.13.1:\n",
            "      Successfully uninstalled scipy-1.13.1\n",
            "  Attempting uninstall: nvidia-nvtx-cu12\n",
            "    Found existing installation: nvidia-nvtx-cu12 12.4.127\n",
            "    Uninstalling nvidia-nvtx-cu12-12.4.127:\n",
            "      Successfully uninstalled nvidia-nvtx-cu12-12.4.127\n",
            "  Attempting uninstall: nvidia-nccl-cu12\n",
            "    Found existing installation: nvidia-nccl-cu12 2.21.5\n",
            "    Uninstalling nvidia-nccl-cu12-2.21.5:\n",
            "      Successfully uninstalled nvidia-nccl-cu12-2.21.5\n",
            "  Attempting uninstall: nvidia-cusparse-cu12\n",
            "    Found existing installation: nvidia-cusparse-cu12 12.5.1.3\n",
            "    Uninstalling nvidia-cusparse-cu12-12.5.1.3:\n",
            "      Successfully uninstalled nvidia-cusparse-cu12-12.5.1.3\n",
            "  Attempting uninstall: nvidia-curand-cu12\n",
            "    Found existing installation: nvidia-curand-cu12 10.3.6.82\n",
            "    Uninstalling nvidia-curand-cu12-10.3.6.82:\n",
            "      Successfully uninstalled nvidia-curand-cu12-10.3.6.82\n",
            "  Attempting uninstall: nvidia-cufft-cu12\n",
            "    Found existing installation: nvidia-cufft-cu12 11.2.3.61\n",
            "    Uninstalling nvidia-cufft-cu12-11.2.3.61:\n",
            "      Successfully uninstalled nvidia-cufft-cu12-11.2.3.61\n",
            "  Attempting uninstall: nvidia-cuda-runtime-cu12\n",
            "    Found existing installation: nvidia-cuda-runtime-cu12 12.5.82\n",
            "    Uninstalling nvidia-cuda-runtime-cu12-12.5.82:\n",
            "      Successfully uninstalled nvidia-cuda-runtime-cu12-12.5.82\n",
            "  Attempting uninstall: nvidia-cuda-nvrtc-cu12\n",
            "    Found existing installation: nvidia-cuda-nvrtc-cu12 12.5.82\n",
            "    Uninstalling nvidia-cuda-nvrtc-cu12-12.5.82:\n",
            "      Successfully uninstalled nvidia-cuda-nvrtc-cu12-12.5.82\n",
            "  Attempting uninstall: nvidia-cuda-cupti-cu12\n",
            "    Found existing installation: nvidia-cuda-cupti-cu12 12.5.82\n",
            "    Uninstalling nvidia-cuda-cupti-cu12-12.5.82:\n",
            "      Successfully uninstalled nvidia-cuda-cupti-cu12-12.5.82\n",
            "  Attempting uninstall: nvidia-cublas-cu12\n",
            "    Found existing installation: nvidia-cublas-cu12 12.5.3.2\n",
            "    Uninstalling nvidia-cublas-cu12-12.5.3.2:\n",
            "      Successfully uninstalled nvidia-cublas-cu12-12.5.3.2\n",
            "  Attempting uninstall: fsspec\n",
            "    Found existing installation: fsspec 2024.10.0\n",
            "    Uninstalling fsspec-2024.10.0:\n",
            "      Successfully uninstalled fsspec-2024.10.0\n",
            "  Attempting uninstall: einops\n",
            "    Found existing installation: einops 0.8.0\n",
            "    Uninstalling einops-0.8.0:\n",
            "      Successfully uninstalled einops-0.8.0\n",
            "  Attempting uninstall: pandas\n",
            "    Found existing installation: pandas 2.2.2\n",
            "    Uninstalling pandas-2.2.2:\n",
            "      Successfully uninstalled pandas-2.2.2\n",
            "  Attempting uninstall: nvidia-cusolver-cu12\n",
            "    Found existing installation: nvidia-cusolver-cu12 11.6.3.83\n",
            "    Uninstalling nvidia-cusolver-cu12-11.6.3.83:\n",
            "      Successfully uninstalled nvidia-cusolver-cu12-11.6.3.83\n",
            "  Attempting uninstall: nvidia-cudnn-cu12\n",
            "    Found existing installation: nvidia-cudnn-cu12 9.3.0.75\n",
            "    Uninstalling nvidia-cudnn-cu12-9.3.0.75:\n",
            "      Successfully uninstalled nvidia-cudnn-cu12-9.3.0.75\n",
            "  Attempting uninstall: jupyter-client\n",
            "    Found existing installation: jupyter-client 6.1.12\n",
            "    Uninstalling jupyter-client-6.1.12:\n",
            "      Successfully uninstalled jupyter-client-6.1.12\n",
            "  Attempting uninstall: torch\n",
            "    Found existing installation: torch 2.5.1+cu124\n",
            "    Uninstalling torch-2.5.1+cu124:\n",
            "      Successfully uninstalled torch-2.5.1+cu124\n",
            "  Attempting uninstall: ipykernel\n",
            "    Found existing installation: ipykernel 5.5.6\n",
            "    Uninstalling ipykernel-5.5.6:\n",
            "      Successfully uninstalled ipykernel-5.5.6\n",
            "  Attempting uninstall: jupyter-server\n",
            "    Found existing installation: jupyter-server 1.24.0\n",
            "    Uninstalling jupyter-server-1.24.0:\n",
            "      Successfully uninstalled jupyter-server-1.24.0\n",
            "\u001b[31mERROR: pip's dependency resolver does not currently take into account all the packages that are installed. This behaviour is the source of the following dependency conflicts.\n",
            "google-colab 1.0.0 requires ipykernel==5.5.6, but you have ipykernel 6.29.5 which is incompatible.\n",
            "google-colab 1.0.0 requires pandas==2.2.2, but you have pandas 2.1.4 which is incompatible.\n",
            "plotnine 0.14.5 requires pandas>=2.2.0, but you have pandas 2.1.4 which is incompatible.\n",
            "gcsfs 2024.10.0 requires fsspec==2024.10.0, but you have fsspec 2023.10.0 which is incompatible.\n",
            "torchaudio 2.5.1+cu124 requires torch==2.5.1, but you have torch 2.4.1 which is incompatible.\n",
            "mizani 0.13.1 requires pandas>=2.2.0, but you have pandas 2.1.4 which is incompatible.\n",
            "torchvision 0.20.1+cu124 requires torch==2.5.1, but you have torch 2.4.1 which is incompatible.\u001b[0m\u001b[31m\n",
            "\u001b[0mSuccessfully installed antlr4-python3-runtime-4.9.3 arrow-1.3.0 async-lru-2.0.4 comm-0.2.2 datasets-2.17.1 dill-0.3.8 einops-0.7.0 fqdn-1.5.1 fsspec-2023.10.0 gluonts-0.14.4 hydra-core-1.3.0 ipykernel-6.29.5 isoduration-20.11.0 jaxtyping-0.2.37 jedi-0.19.2 json5-0.10.0 jupyter-1.1.1 jupyter-client-7.4.9 jupyter-events-0.12.0 jupyter-lsp-2.2.5 jupyter-server-2.15.0 jupyter-server-terminals-0.5.3 jupyterlab-4.3.5 jupyterlab-server-2.27.3 lightning-2.5.0.post0 lightning-utilities-0.12.0 multiprocess-0.70.16 nvidia-cublas-cu12-12.1.3.1 nvidia-cuda-cupti-cu12-12.1.105 nvidia-cuda-nvrtc-cu12-12.1.105 nvidia-cuda-runtime-cu12-12.1.105 nvidia-cudnn-cu12-9.1.0.70 nvidia-cufft-cu12-11.0.2.54 nvidia-curand-cu12-10.3.2.106 nvidia-cusolver-cu12-11.4.5.107 nvidia-cusparse-cu12-12.1.0.106 nvidia-nccl-cu12-2.20.5 nvidia-nvtx-cu12-12.1.105 omegaconf-2.3.0 overrides-7.7.0 pandas-2.1.4 pyarrow-hotfix-0.6 python-dotenv-1.0.0 python-json-logger-3.2.1 pytorch-lightning-2.5.0.post0 rfc3339-validator-0.1.4 rfc3986-validator-0.1.1 scipy-1.11.4 torch-2.4.1 torchmetrics-1.6.1 triton-3.0.0 types-python-dateutil-2.9.0.20241206 uni2ts-1.2.0 uri-template-1.3.0 wadler-lindig-0.1.3 xxhash-3.5.0\n"
          ]
        },
        {
          "output_type": "display_data",
          "data": {
            "application/vnd.colab-display-data+json": {
              "pip_warning": {
                "packages": [
                  "pydevd_plugins"
                ]
              },
              "id": "44d253e560d74686a936423154df038d"
            }
          },
          "metadata": {}
        }
      ]
    },
    {
      "cell_type": "code",
      "source": [
        "#!pip install uni2ts"
      ],
      "metadata": {
        "id": "Qhb8FtxHmZPw"
      },
      "execution_count": null,
      "outputs": []
    },
    {
      "cell_type": "code",
      "source": [
        "!touch .env"
      ],
      "metadata": {
        "id": "LYqsSuw0F6JC"
      },
      "execution_count": 1,
      "outputs": []
    },
    {
      "cell_type": "code",
      "source": [
        "import torch\n",
        "import os\n",
        "import matplotlib.pyplot as plt\n",
        "import matplotlib.dates as mdates\n",
        "import numpy as np\n",
        "import pandas as pd\n",
        "import math\n",
        "from gluonts.dataset.pandas import PandasDataset\n",
        "from gluonts.dataset.split import split\n",
        "from huggingface_hub import hf_hub_download\n",
        "from sklearn.metrics import mean_absolute_error, r2_score\n",
        "\n",
        "#from uni2ts.eval_util.plot import plot_single\n",
        "from uni2ts.model.moirai import MoiraiForecast, MoiraiModule\n",
        "from uni2ts.model.moirai_moe import MoiraiMoEForecast, MoiraiMoEModule"
      ],
      "metadata": {
        "id": "q1ULmVb9Gj5r"
      },
      "execution_count": 2,
      "outputs": []
    },
    {
      "cell_type": "code",
      "source": [
        "# Definitions and Constants\n",
        "#FILEPATH = \"/content/uni2ts/230401_250108_PT1H_Solcast_All.csv\"\n",
        "FILEPATH = \"/content/uni2ts/230401_250108_PT1H_Solcast_reduced_features.csv\"\n",
        "SEQUENCE_LENGTH = 768 # Use the past 12, 24, 48, 96, 192, 384, 768 and 1536 time steps for prediction\n",
        "PATCH_SIZE = 64 # patch size, Number of samples for each layer or sequence, 32 or 64 recommended for hourly\n",
        "BATCH_SIZE = 8 # batch size, samples processed in parallel\n",
        "LR = \"nA\"\n",
        "NUM_EPOCHS = \"nA\"\n",
        "LOSS = \"nA\" # Enter manually later\n",
        "\n",
        "# Model parameters\n",
        "MODEL = \"moirai\"  # model name: choose from {'moirai', 'moirai-moe'}\n",
        "SIZE = \"large\"  # model size: choose from {'small', 'base', 'large'}"
      ],
      "metadata": {
        "id": "XZiBEXys_pMQ"
      },
      "execution_count": 92,
      "outputs": []
    },
    {
      "cell_type": "code",
      "source": [
        "# Helpers\n",
        "\n",
        "# Filename extractor\n",
        "def file_name_no_extension(filepath):\n",
        "  # Extract the filename without the folder path\n",
        "  filename_with_extension = os.path.basename(filepath)\n",
        "\n",
        "  # Remove the `.csv` extension\n",
        "  filename_without_extension = os.path.splitext(filename_with_extension)[0]\n",
        "\n",
        "  return filename_without_extension"
      ],
      "metadata": {
        "id": "wZJmdwLM_7b0"
      },
      "execution_count": 5,
      "outputs": []
    },
    {
      "cell_type": "code",
      "source": [
        "# Memory optimization\n",
        "# Set CUDA memory management configuration to avoid fragmentation\n",
        "# https://pytorch.org/docs/stable/notes/cuda.html#using-custom-memory-allocators-for-cuda\n",
        "os.environ[\"PYTORCH_CUDA_ALLOC_CONF\"] = \"expandable_segments:True\"\n",
        "\n",
        "# Check if CUDA is available\n",
        "device = torch.device(\"cuda\" if torch.cuda.is_available() else \"cpu\")\n",
        "print(f\"Using device: {device}\")"
      ],
      "metadata": {
        "colab": {
          "base_uri": "https://localhost:8080/"
        },
        "id": "hOhD2eVQnbSX",
        "outputId": "b12ad874-888a-4844-e5ee-a990c3c8a56e"
      },
      "execution_count": 6,
      "outputs": [
        {
          "output_type": "stream",
          "name": "stdout",
          "text": [
            "Using device: cuda\n"
          ]
        }
      ]
    },
    {
      "cell_type": "code",
      "source": [
        "torch.cuda.empty_cache()"
      ],
      "metadata": {
        "id": "3vf-6cpxpXvJ"
      },
      "execution_count": 6,
      "outputs": []
    },
    {
      "cell_type": "code",
      "source": [
        "os.environ[\"PYTORCH_CUDA_ALLOC_CONF\"]"
      ],
      "metadata": {
        "colab": {
          "base_uri": "https://localhost:8080/",
          "height": 35
        },
        "id": "wQgNgzaGoPv8",
        "outputId": "a04d40d5-e889-4b2a-ba91-be656a7a0849"
      },
      "execution_count": null,
      "outputs": [
        {
          "output_type": "execute_result",
          "data": {
            "text/plain": [
              "'expandable_segments:True'"
            ],
            "application/vnd.google.colaboratory.intrinsic+json": {
              "type": "string"
            }
          },
          "metadata": {},
          "execution_count": 6
        }
      ]
    },
    {
      "cell_type": "code",
      "source": [
        "# Step 1: Load the data\n",
        "df = pd.read_csv(FILEPATH, index_col=0, parse_dates=True)"
      ],
      "metadata": {
        "id": "nsxr6GM3q9iC"
      },
      "execution_count": 7,
      "outputs": []
    },
    {
      "cell_type": "code",
      "source": [
        "# Normalizer\n",
        "#from sklearn.preprocessing import MinMaxScaler\n",
        "\n",
        " # Exclude the 'date' column from normalization\n",
        "#date_column = df['date']  # Preserve the 'date' column\n",
        "#features = df.drop(columns=['date'])  # Drop 'date' column for normalization\n",
        "\n",
        "# Normalize the features\n",
        "#scaler = MinMaxScaler()\n",
        "#normalized_features = scaler.fit_transform(df)"
      ],
      "metadata": {
        "id": "Ern3rx8Vm2zV"
      },
      "execution_count": null,
      "outputs": []
    },
    {
      "cell_type": "code",
      "source": [
        "# Convert back to DataFrame with columns and index\n",
        "#normalized_df = pd.DataFrame(normalized_features, columns=df.columns, index=df.index)"
      ],
      "metadata": {
        "id": "FhYYx2SRNwTY"
      },
      "execution_count": null,
      "outputs": []
    },
    {
      "cell_type": "code",
      "source": [
        "#normalized_df"
      ],
      "metadata": {
        "id": "Gd-f8emDNkw2"
      },
      "execution_count": null,
      "outputs": []
    },
    {
      "cell_type": "code",
      "source": [
        "#dataset = PandasDataset(dict(df))"
      ],
      "metadata": {
        "id": "eOuzkZPrXDYf"
      },
      "execution_count": null,
      "outputs": []
    },
    {
      "cell_type": "code",
      "source": [
        "## Step 2: Feature Scaling\n",
        "# https://ts.gluon.ai/dev/api/gluonts/gluonts.dataset.pandas.html\n",
        "# Convert into GluonTS dataset with features\n",
        "#dataset = PandasDataset(df,target=\"dc_power\",timestamp=\"date\", freq=\"5T\", past_feat_dynamic_real=['air_temp', 'albedo', 'azimuth', 'clearsky_dhi', 'clearsky_dni', 'clearsky_ghi', 'clearsky_gti', 'cloud_opacity', 'dewpoint_temp', 'dhi', 'dni', 'ghi', 'gti', 'precipitable_water', 'precipitation_rate', 'relative_humidity', 'surface_pressure', 'snow_depth', 'snow_water_equivalent', 'snow_soiling_rooftop', 'snow_soiling_ground', 'wind_direction_100m', 'wind_direction_10m', 'wind_speed_100m', 'wind_speed_10m', 'zenith'])\n",
        "#dataset = PandasDataset(normalized_df,target=\"dc_power\", past_feat_dynamic_real=['air_temp', 'albedo', 'azimuth', 'clearsky_dhi', 'clearsky_dni', 'clearsky_ghi', 'clearsky_gti', 'cloud_opacity', 'dewpoint_temp', 'dhi', 'dni', 'ghi', 'gti', 'precipitable_water', 'precipitation_rate', 'relative_humidity', 'surface_pressure', 'snow_depth', 'snow_water_equivalent', 'snow_soiling_rooftop', 'snow_soiling_ground', 'wind_direction_100m', 'wind_direction_10m', 'wind_speed_100m', 'wind_speed_10m', 'zenith'])\n",
        "#dataset = PandasDataset(df, target=\"dc_power\",\n",
        "                        #past_feat_dynamic_real=['dc_power','air_temp', 'albedo', 'azimuth', 'clearsky_dhi', 'clearsky_dni', 'clearsky_ghi', 'clearsky_gti', 'cloud_opacity', 'dewpoint_temp', 'dhi', 'dni', 'ghi', 'gti', 'precipitable_water', 'precipitation_rate', 'relative_humidity', 'surface_pressure', 'snow_depth', 'snow_water_equivalent', 'snow_soiling_rooftop', 'snow_soiling_ground', 'wind_direction_100m', 'wind_direction_10m', 'wind_speed_100m', 'wind_speed_10m', 'zenith'],\n",
        "                        #feat_dynamic_real=['air_temp', 'albedo', 'azimuth', 'clearsky_dhi', 'clearsky_dni', 'clearsky_ghi', 'clearsky_gti', 'cloud_opacity', 'dewpoint_temp', 'dhi', 'dni', 'ghi', 'gti', 'precipitable_water', 'precipitation_rate', 'relative_humidity', 'surface_pressure', 'snow_depth', 'snow_water_equivalent', 'snow_soiling_rooftop', 'snow_soiling_ground', 'wind_direction_100m', 'wind_direction_10m', 'wind_speed_100m', 'wind_speed_10m', 'zenith'])\n",
        "dataset = PandasDataset(df, target=\"dc_power\",\n",
        "                        past_feat_dynamic_real=['dc_power','air_temp', 'azimuth', 'cloud_opacity', 'dhi', 'dni', 'ghi', 'zenith'],\n",
        "                        feat_dynamic_real=['air_temp', 'azimuth', 'cloud_opacity', 'dhi', 'dni', 'ghi', 'zenith'])"
      ],
      "metadata": {
        "id": "AwyPxPrUcrFi"
      },
      "execution_count": 8,
      "outputs": []
    },
    {
      "cell_type": "code",
      "source": [
        "dataset"
      ],
      "metadata": {
        "colab": {
          "base_uri": "https://localhost:8080/"
        },
        "id": "HANuE_3Yehhi",
        "outputId": "62be01b9-dcda-4c06-d489-5aa1f9c48298"
      },
      "execution_count": 9,
      "outputs": [
        {
          "output_type": "execute_result",
          "data": {
            "text/plain": [
              "PandasDataset<size=1, freq=H, num_feat_dynamic_real=7, num_past_feat_dynamic_real=8, num_feat_static_real=0, num_feat_static_cat=0, static_cardinalities=[]>"
            ]
          },
          "metadata": {},
          "execution_count": 9
        }
      ]
    },
    {
      "cell_type": "code",
      "source": [
        "# Step 3: Split data into training and testing sets\n",
        "# Step 4: Create test sequences for time-series prediction\n",
        "TESTDATA_LENGTH = math.floor(len(df)*0.2) # 20% testdata\n",
        "\n",
        "training_data, test_gen = split(dataset, offset=-TESTDATA_LENGTH)\n",
        "test_data = test_gen.generate_instances(prediction_length=TESTDATA_LENGTH, distance=TESTDATA_LENGTH)"
      ],
      "metadata": {
        "id": "SeXg61VjA7K8"
      },
      "execution_count": 10,
      "outputs": []
    },
    {
      "cell_type": "code",
      "source": [
        "# Helper\n",
        "# Calculate timestamp for Test Data starting point\n",
        "timestamp_test_data = df[len(df)-TESTDATA_LENGTH:].iloc[:1].index.item()\n",
        "TEST_DATA_START_DATETIME = timestamp_test_data.strftime('%Y-%m-%d %H:%M:%S')"
      ],
      "metadata": {
        "id": "2LIlbaBnBHUy"
      },
      "execution_count": 11,
      "outputs": []
    },
    {
      "cell_type": "code",
      "source": [
        "TEST_DATA_START_DATETIME"
      ],
      "metadata": {
        "colab": {
          "base_uri": "https://localhost:8080/",
          "height": 35
        },
        "id": "cm6-LrfGKl4q",
        "outputId": "bfe10e41-e53b-44ce-9235-d9d65cc00db9"
      },
      "execution_count": 101,
      "outputs": [
        {
          "output_type": "execute_result",
          "data": {
            "text/plain": [
              "'2024-08-31 11:00:00'"
            ],
            "application/vnd.google.colaboratory.intrinsic+json": {
              "type": "string"
            }
          },
          "metadata": {},
          "execution_count": 101
        }
      ]
    },
    {
      "cell_type": "code",
      "source": [
        "len(df)-TESTDATA_LENGTH"
      ],
      "metadata": {
        "colab": {
          "base_uri": "https://localhost:8080/"
        },
        "id": "sevzJ6nZSNrg",
        "outputId": "910281d4-2587-4555-868d-7d3a204a1a00"
      },
      "execution_count": 81,
      "outputs": [
        {
          "output_type": "execute_result",
          "data": {
            "text/plain": [
              "12442"
            ]
          },
          "metadata": {},
          "execution_count": 81
        }
      ]
    },
    {
      "cell_type": "code",
      "source": [
        "TESTDATA_LENGTH"
      ],
      "metadata": {
        "colab": {
          "base_uri": "https://localhost:8080/"
        },
        "id": "Ea0q6GwzSENl",
        "outputId": "52c1cf0a-4a3f-4b9d-a76c-2bf744936735"
      },
      "execution_count": 80,
      "outputs": [
        {
          "output_type": "execute_result",
          "data": {
            "text/plain": [
              "3110"
            ]
          },
          "metadata": {},
          "execution_count": 80
        }
      ]
    },
    {
      "cell_type": "code",
      "source": [
        "# Step5.1: Prepare pre-trained model by downloading model weights from huggingface hub\n",
        "if MODEL == \"moirai\":\n",
        "    model = MoiraiForecast(\n",
        "        module=MoiraiModule.from_pretrained(f\"Salesforce/moirai-1.1-R-{SIZE}\"),\n",
        "        prediction_length=TESTDATA_LENGTH,\n",
        "        context_length=SEQUENCE_LENGTH,\n",
        "        patch_size=PATCH_SIZE,\n",
        "        num_samples=100, # find out what this exactly is for\n",
        "        target_dim=1,\n",
        "        feat_dynamic_real_dim=dataset.num_feat_dynamic_real,\n",
        "        past_feat_dynamic_real_dim=dataset.num_past_feat_dynamic_real,\n",
        "    )\n",
        "\n",
        "elif MODEL == \"moirai-moe\":\n",
        "    model = MoiraiMoEForecast(\n",
        "        module=MoiraiMoEModule.from_pretrained(f\"Salesforce/moirai-moe-1.0-R-{SIZE}\"),\n",
        "        prediction_length=TESTDATA_LENGTH,\n",
        "        context_length=SEQUENCE_LENGTH,\n",
        "        patch_size=PATCH_SIZE,\n",
        "        num_samples=100,\n",
        "        target_dim=1,\n",
        "        feat_dynamic_real_dim=dataset.num_feat_dynamic_real,\n",
        "        past_feat_dynamic_real_dim=dataset.num_past_feat_dynamic_real,\n",
        "    )\n"
      ],
      "metadata": {
        "id": "TgNsOyssGuSL",
        "colab": {
          "base_uri": "https://localhost:8080/",
          "height": 203,
          "referenced_widgets": [
            "c692c0f9fa494c02afa5a543d5f29eda",
            "789852e1c12c4b8f941b13ef8d7f83e8",
            "7c13526fc4d44f4f8bad5c47e61c40bd",
            "7505a342005549fbb0ecf2d85c28816e",
            "f94be468f4814df2a3a47743c829b0d3",
            "69e39176f589409a9efe1738b4a1fadd",
            "7d46b8f83ab349d5a6149d4e0f588079",
            "f719b33107b0439ca366c4df9ca7bcbe",
            "10828c752f2345ac9becaf430b33e09e",
            "a4e3c72cbcd04350acff1bacf750d89d",
            "d294808e284c478fb695f6750f5b31a8",
            "7da3d00790c34eb094559f2f56cdef3b",
            "e696a41a863549789f0d326c5e577e30",
            "20ee53d97ddd47bbb2e4372ac3359ad0",
            "9d612226dc024cd3a021546a689e56d6",
            "8c206be30d3346498ceea222963742ac",
            "aba55279fa814d4e929fe9ed87a2058d",
            "5425b07624d042feac4c708e2c29700b",
            "e9ab6e8d001c4de29cc6d089c08ac594",
            "27aafc5ba7634e998c58079f4ab9d92d",
            "bd8a9a3be83b43d8a38593aae9a3ba6a",
            "ca0ba4bd0db749bcaae0e04c206db1e2"
          ]
        },
        "outputId": "1bdb911b-ff4a-4964-c92b-4d46f7668494"
      },
      "execution_count": 12,
      "outputs": [
        {
          "output_type": "stream",
          "name": "stderr",
          "text": [
            "/usr/local/lib/python3.11/dist-packages/huggingface_hub/utils/_auth.py:94: UserWarning: \n",
            "The secret `HF_TOKEN` does not exist in your Colab secrets.\n",
            "To authenticate with the Hugging Face Hub, create a token in your settings tab (https://huggingface.co/settings/tokens), set it as secret in your Google Colab and restart your session.\n",
            "You will be able to reuse this secret in all of your notebooks.\n",
            "Please note that authentication is recommended but still optional to access public models or datasets.\n",
            "  warnings.warn(\n"
          ]
        },
        {
          "output_type": "display_data",
          "data": {
            "text/plain": [
              "config.json:   0%|          | 0.00/682 [00:00<?, ?B/s]"
            ],
            "application/vnd.jupyter.widget-view+json": {
              "version_major": 2,
              "version_minor": 0,
              "model_id": "c692c0f9fa494c02afa5a543d5f29eda"
            }
          },
          "metadata": {}
        },
        {
          "output_type": "display_data",
          "data": {
            "text/plain": [
              "model.safetensors:   0%|          | 0.00/55.3M [00:00<?, ?B/s]"
            ],
            "application/vnd.jupyter.widget-view+json": {
              "version_major": 2,
              "version_minor": 0,
              "model_id": "7da3d00790c34eb094559f2f56cdef3b"
            }
          },
          "metadata": {}
        }
      ]
    },
    {
      "cell_type": "code",
      "source": [
        "# Step5.2: Prepare fine-tuned model by loading model weights from ckpt file\n",
        "checkpoint_path = \"/content/multirun/2025-02-06/10-39-59/1/checkpoints/epoch=0-step=100.ckpt\"\n",
        "\n",
        "# Load the model\n",
        "if MODEL == \"moirai\":\n",
        "  model = MoiraiForecast.load_from_checkpoint(checkpoint_path,\n",
        "        prediction_length=TESTDATA_LENGTH,\n",
        "        context_length=SEQUENCE_LENGTH, #12, 24, 48, 96, 192, 384, 768 and 1536\n",
        "        patch_size=PATCH_SIZE,\n",
        "        num_samples=100,\n",
        "        target_dim=1,\n",
        "        feat_dynamic_real_dim=dataset.num_feat_dynamic_real,\n",
        "        past_feat_dynamic_real_dim=dataset.num_past_feat_dynamic_real)"
      ],
      "metadata": {
        "id": "j5WvOywrXWbW"
      },
      "execution_count": 93,
      "outputs": []
    },
    {
      "cell_type": "code",
      "source": [
        "# Step 6: Get probabilistic predictions\n",
        "predictor = model.create_predictor(batch_size=BATCH_SIZE)\n",
        "forecasts = list(predictor.predict(test_data.input))"
      ],
      "metadata": {
        "id": "kWD0GAhuzdtF"
      },
      "execution_count": 94,
      "outputs": []
    },
    {
      "cell_type": "code",
      "source": [
        "# Step 7: Get point predictions\n",
        "# Get predictions from forecasts\n",
        "predictions = forecasts[0].mean_ts\n",
        "\n",
        "# Feature added here!!!\n",
        "# Truncate negative predictions to 0\n",
        "predictions = np.maximum(predictions, 0)\n",
        "\n",
        "# Get actuals for metric calculations later\n",
        "actuals = df[timestamp_test_data:][\"dc_power\"]\n",
        "\n",
        "# Change type\n",
        "predictions = predictions.to_numpy()\n",
        "actuals = actuals.to_numpy()"
      ],
      "metadata": {
        "id": "jF0AjDcZGzQS"
      },
      "execution_count": 95,
      "outputs": []
    },
    {
      "cell_type": "code",
      "source": [
        "len(predictions)"
      ],
      "metadata": {
        "colab": {
          "base_uri": "https://localhost:8080/"
        },
        "id": "SgQQWsPP76-x",
        "outputId": "e846d325-f244-4f4d-cb21-d6351d1901ee"
      },
      "execution_count": 83,
      "outputs": [
        {
          "output_type": "execute_result",
          "data": {
            "text/plain": [
              "3110"
            ]
          },
          "metadata": {},
          "execution_count": 83
        }
      ]
    },
    {
      "cell_type": "code",
      "source": [
        "#forecasts[0].samples[99]"
      ],
      "metadata": {
        "id": "3TS8qVqA9s4w"
      },
      "execution_count": null,
      "outputs": []
    },
    {
      "cell_type": "code",
      "source": [
        "# Step 8: Do evaluations\n",
        "# Calculate metrics\n",
        "\n",
        "def smape(y_true, y_pred):\n",
        "    \"\"\"\n",
        "    Calculate the Symmetric Mean Absolute Percentage Error (SMAPE).\n",
        "    y_true: array-like, actual values\n",
        "    y_pred: array-like, predicted values\n",
        "    \"\"\"\n",
        "    denominator = (np.abs(y_true) + np.abs(y_pred)) / 2\n",
        "    smape_values = np.abs(y_true - y_pred) / denominator\n",
        "    smape_values = np.nan_to_num(smape_values, nan=0.0, posinf=0.0, neginf=0.0)  # Handle division by zero\n",
        "    return np.mean(smape_values) * 100  # Convert to percentage\n",
        "\n",
        "\n",
        "RMSE = np.sqrt(np.mean((predictions - actuals)**2))\n",
        "MAE = mean_absolute_error(actuals, predictions)\n",
        "#MAPE = np.mean(np.abs((actuals - predictions) / actuals)) * 100\n",
        "R2 = r2_score(actuals, predictions)\n",
        "SMAPE = smape(actuals, predictions)\n",
        "\n",
        "# Print metrics\n",
        "print(f\"RMSE: {RMSE:.4f}\")\n",
        "print(f\"MAE: {MAE:.4f}\")\n",
        "#print(f\"MAPE: {MAPE:.2f}%\")\n",
        "print(f\"SMAPE: {SMAPE:.2f}%\")\n",
        "print(f\"R^2: {R2:.4f}\")"
      ],
      "metadata": {
        "id": "lVqSvpBWH_S-",
        "colab": {
          "base_uri": "https://localhost:8080/"
        },
        "outputId": "95f9bdae-8f7a-4946-84d9-2d5c0c87d02c"
      },
      "execution_count": 96,
      "outputs": [
        {
          "output_type": "stream",
          "name": "stdout",
          "text": [
            "RMSE: 2.0188\n",
            "MAE: 1.6977\n",
            "SMAPE: 154.38%\n",
            "R^2: -0.5778\n"
          ]
        },
        {
          "output_type": "stream",
          "name": "stderr",
          "text": [
            "/tmp/ipykernel_1691/3206384100.py:11: RuntimeWarning: invalid value encountered in divide\n",
            "  smape_values = np.abs(y_true - y_pred) / denominator\n"
          ]
        }
      ]
    },
    {
      "cell_type": "code",
      "source": [
        "# Manually set parameters\n",
        "LR = 0.000001\n",
        "#NUM_EPOCHS = 15\n",
        "#LOSS = \"nA\" # Enter manually later"
      ],
      "metadata": {
        "id": "S6e8xlAn1puE"
      },
      "execution_count": 102,
      "outputs": []
    },
    {
      "cell_type": "code",
      "source": [
        "# Step 9: Visualize predictions first plot\n",
        "start_date = \"2025-01-01\"\n",
        "nb_samples = 120 # 10 days if PT1H frequency\n",
        "\n",
        "# Plot filtered data\n",
        "plt.plot(df[start_date:][\"dc_power\"].iloc[:nb_samples], color=\"black\", label=\"True values\")\n",
        "plt.plot(df[start_date:].iloc[:nb_samples].index, predictions[len(predictions)-len(df[start_date:].iloc[:nb_samples]):], color=\"blue\", label=\"Predictions\")\n",
        "plt.legend(loc=\"upper right\", fontsize=\"small\")\n",
        "plt.ylabel(\"DC Power (kW)\")\n",
        "plt.xlabel(\"Date\")\n",
        "plt.title(f\"{MODEL}-{SIZE}-finetune Forecast (starting at {TEST_DATA_START_DATETIME})\")\n",
        "plt.figtext(0.095, 0.9,f\"Dataset={file_name_no_extension(FILEPATH)}, {nb_samples} of {TESTDATA_LENGTH} samples\", fontsize=8, color='black')\n",
        "plt.figtext(0.095, 0.8625,f\"RMSE={RMSE:.4f}, MAE={MAE:.4f}, SMAPE={SMAPE:.2f}%, R^2={R2:.4f}, Loss={LOSS}\", fontsize=8, color='black')\n",
        "plt.figtext(0.095, 0.8250,f\"Sequence_length={SEQUENCE_LENGTH}, PATCH={PATCH_SIZE}, BATCH={BATCH_SIZE}, LR={LR}, Epochs={NUM_EPOCHS}\", fontsize=8, color='black')\n",
        "plt.figtext(0.095, 0.7875,f\"Features={dataset.feat_dynamic_real}\", fontsize=8, color='black')\n",
        "plt.figtext(0.095, 0.7500,f\"Past features={dataset.past_feat_dynamic_real}\", fontsize=8, color='black')\n",
        "\n",
        "# Set y-axis limits\n",
        "plt.ylim(0, 5.5)\n",
        "\n",
        "# Set y-axis limits and x-axis formatting\n",
        "ax = plt.gca()\n",
        "ax.xaxis.set_major_formatter(mdates.DateFormatter(\"%Y-%m-%d\"))\n",
        "ax.xaxis.set_major_locator(mdates.DayLocator())\n",
        "plt.xticks(rotation=45)\n",
        "\n",
        "# Adjust layout and save plot\n",
        "plt.tight_layout()\n",
        "plt.savefig(f\"{MODEL}-{SIZE}-finetune-{start_date}-RMSE={RMSE:.4f}-SEQUENCE_L={SEQUENCE_LENGTH}.pdf\")\n",
        "plt.show()"
      ],
      "metadata": {
        "id": "TdT-jEusIJqR",
        "colab": {
          "base_uri": "https://localhost:8080/",
          "height": 487
        },
        "outputId": "c499bf97-c20f-4bb2-aab1-ec56444c36bc"
      },
      "execution_count": 103,
      "outputs": [
        {
          "output_type": "display_data",
          "data": {
            "text/plain": [
              "<Figure size 640x480 with 1 Axes>"
            ],
            "image/png": "[encoded data removed]"
          },
          "metadata": {}
        }
      ]
    },
    {
      "cell_type": "code",
      "source": [
        "# Step 10: Visualize predictions second plot\n",
        "start_date = \"2024-09-02\"\n",
        "nb_samples = 120 # 10 days if PT1H frequency\n",
        "\n",
        "# Plot filtered data\n",
        "plt.plot(df[start_date:][\"dc_power\"].iloc[:nb_samples], color=\"black\", label=\"True values\")\n",
        "plt.plot(df[start_date:].iloc[:nb_samples].index, predictions[len(predictions)-len(df[start_date:].iloc[:nb_samples]):], color=\"blue\", label=\"Predictions\")\n",
        "plt.legend(loc=\"upper right\", fontsize=\"small\")\n",
        "plt.ylabel(\"DC Power (kW)\")\n",
        "plt.xlabel(\"Date\")\n",
        "plt.title(f\"{MODEL}-{SIZE}-finetune Forecast (starting at {TEST_DATA_START_DATETIME})\")\n",
        "plt.figtext(0.1, 0.9,f\"Dataset={file_name_no_extension(FILEPATH)}, {nb_samples} of {TESTDATA_LENGTH} samples\", fontsize=8, color='black')\n",
        "plt.figtext(0.1, 0.8625,f\"RMSE={RMSE:.4f}, MAE={MAE:.4f}, SMAPE={SMAPE:.2f}%, R^2={R2:.4f}, Loss={LOSS}\", fontsize=8, color='black')\n",
        "plt.figtext(0.1, 0.8250,f\"Sequence_length={SEQUENCE_LENGTH}, PATCH={PATCH_SIZE}, BATCH={BATCH_SIZE}, LR={LR}, Epochs={NUM_EPOCHS}\", fontsize=8, color='black')\n",
        "plt.figtext(0.1, 0.7875,f\"Features={dataset.feat_dynamic_real}\", fontsize=8, color='black')\n",
        "plt.figtext(0.1, 0.7500,f\"Past features={dataset.past_feat_dynamic_real}\", fontsize=8, color='black')\n",
        "\n",
        "# Set y-axis limits\n",
        "plt.ylim(0, 12.5)\n",
        "\n",
        "# Set y-axis limits and x-axis formatting\n",
        "ax = plt.gca()\n",
        "ax.xaxis.set_major_formatter(mdates.DateFormatter(\"%Y-%m-%d\"))\n",
        "ax.xaxis.set_major_locator(mdates.DayLocator())\n",
        "plt.xticks(rotation=45)\n",
        "\n",
        "# Adjust layout and save plot\n",
        "plt.tight_layout()\n",
        "plt.savefig(f\"{MODEL}-{SIZE}-finetune-{start_date}-RMSE={RMSE:.4f}-SEQUENCE_L={SEQUENCE_LENGTH}.pdf\")\n",
        "plt.show()"
      ],
      "metadata": {
        "id": "SqUW8-TwL3SE",
        "colab": {
          "base_uri": "https://localhost:8080/",
          "height": 487
        },
        "outputId": "78c3ae94-0a7b-4e9c-80ad-ce809721fe2a"
      },
      "execution_count": 104,
      "outputs": [
        {
          "output_type": "display_data",
          "data": {
            "text/plain": [
              "<Figure size 640x480 with 1 Axes>"
            ],
            "image/png": "[encoded data removed]"
          },
          "metadata": {}
        }
      ]
    },
    {
      "cell_type": "code",
      "source": [
        "!pwd"
      ],
      "metadata": {
        "colab": {
          "base_uri": "https://localhost:8080/"
        },
        "id": "v_-Xa3x_ZCXZ",
        "outputId": "776ac701-311c-4b3c-f21c-9ac9e52ef9a2"
      },
      "execution_count": null,
      "outputs": [
        {
          "output_type": "stream",
          "name": "stdout",
          "text": [
            "/content\n"
          ]
        }
      ]
    },
    {
      "cell_type": "code",
      "source": [
        "# Fine-tuning in regards to https://github.com/SalesforceAIResearch/uni2ts/blob/main/README.md#fine-tuning\n",
        "# Step 1 Set Data Path Directory\n",
        "!echo \"CUSTOM_DATA_PATH=/content/uni2ts/\" >> .env"
      ],
      "metadata": {
        "id": "CN6y68zkhZS2"
      },
      "execution_count": 18,
      "outputs": []
    },
    {
      "cell_type": "code",
      "source": [
        "!echo \"PYTHONPATH=/content/uni2ts\" >> .env"
      ],
      "metadata": {
        "id": "es3PtupPF-OB"
      },
      "execution_count": 19,
      "outputs": []
    },
    {
      "cell_type": "code",
      "source": [
        "!cat .env"
      ],
      "metadata": {
        "colab": {
          "base_uri": "https://localhost:8080/"
        },
        "id": "A9NAOCxbYZwC",
        "outputId": "0649f0f9-e921-42dd-cd2e-50be52a2e1db"
      },
      "execution_count": 13,
      "outputs": [
        {
          "output_type": "stream",
          "name": "stdout",
          "text": [
            "CUSTOM_DATA_PATH=/content/uni2ts/\n",
            "PYTHONPATH=/content/uni2ts\n"
          ]
        }
      ]
    },
    {
      "cell_type": "code",
      "source": [
        "# Step 2.1 process dataset\n",
        "!python -m uni2ts.data.builder.simple customdataset /content/uni2ts/230401_250108_PT1H_Solcast_reduced_features.csv --dataset_type wide_multivariate"
      ],
      "metadata": {
        "id": "ogaNfoMChlvJ",
        "colab": {
          "base_uri": "https://localhost:8080/"
        },
        "outputId": "b287bab8-2c46-4a37-fe3a-b96035139f6d"
      },
      "execution_count": 20,
      "outputs": [
        {
          "output_type": "stream",
          "name": "stdout",
          "text": [
            "Inferred frequency: H. Using this value for the 'freq' parameter.\n",
            "Generating train split: 1 examples [00:00,  4.56 examples/s]\n",
            "Saving the dataset (1/1 shards): 100% 1/1 [00:00<00:00, 254.39 examples/s]\n"
          ]
        }
      ]
    },
    {
      "cell_type": "code",
      "source": [
        "# Step 2.2 Set offset\n",
        "!python -m uni2ts.data.builder.simple customdataset /content/uni2ts/230401_250108_PT1H_Solcast_reduced_features.csv --date_offset '2024-08-31 10:00:00'"
      ],
      "metadata": {
        "id": "gsF2EKXEktSI",
        "colab": {
          "base_uri": "https://localhost:8080/"
        },
        "outputId": "52760776-ea40-4a55-c77e-2d830f9c0a61"
      },
      "execution_count": 21,
      "outputs": [
        {
          "output_type": "stream",
          "name": "stdout",
          "text": [
            "                     dc_power  air_temp  azimuth  cloud_opacity  dhi  dni  ghi  zenith\n",
            "date                                                                                  \n",
            "2023-04-01 01:00:00       0.0         8      -27           37.4    0    0    0     125\n",
            "2023-04-01 02:00:00       0.0         8      -43           46.6    0    0    0     120\n",
            "2023-04-01 03:00:00       0.0         8      -57           40.6    0    0    0     112\n",
            "2023-04-01 04:00:00       0.0         7      -70           47.6    0    0    0     103\n",
            "2023-04-01 05:00:00       0.0         7      -81           58.2    0    0    0      93\n",
            "...                       ...       ...      ...            ...  ...  ...  ...     ...\n",
            "2024-08-31 06:00:00       0.0        19      -90           23.9   94   47  104      78\n",
            "2024-08-31 07:00:00       0.1        21     -101            0.0   89  575  303      68\n",
            "2024-08-31 08:00:00       0.7        22     -114            0.0  108  683  466      58\n",
            "2024-08-31 09:00:00       1.3        24     -128            0.0  117  755  605      50\n",
            "2024-08-31 10:00:00       4.4        26     -147            0.0  118  802  706      43\n",
            "\n",
            "[12442 rows x 8 columns]\n",
            "Inferred frequency: H. Using this value for the 'freq' parameter.\n",
            "Generating train split: 8 examples [00:00, 50.02 examples/s]\n",
            "Saving the dataset (1/1 shards): 100% 8/8 [00:00<00:00, 2169.70 examples/s]\n",
            "                     dc_power  air_temp  azimuth  cloud_opacity  dhi  dni  ghi  zenith\n",
            "date                                                                                  \n",
            "2023-04-01 01:00:00       0.0         8      -27           37.4    0    0    0     125\n",
            "2023-04-01 02:00:00       0.0         8      -43           46.6    0    0    0     120\n",
            "2023-04-01 03:00:00       0.0         8      -57           40.6    0    0    0     112\n",
            "2023-04-01 04:00:00       0.0         7      -70           47.6    0    0    0     103\n",
            "2023-04-01 05:00:00       0.0         7      -81           58.2    0    0    0      93\n",
            "...                       ...       ...      ...            ...  ...  ...  ...     ...\n",
            "2025-01-07 20:00:00       0.0         1       79           32.1    0    0    0     131\n",
            "2025-01-07 21:00:00       0.0         1       65           73.2    0    0    0     140\n",
            "2025-01-07 22:00:00       0.0         2       45           33.5    0    0    0     149\n",
            "2025-01-07 23:00:00       0.0         1       18           40.6    0    0    0     154\n",
            "2025-01-08 00:00:00       0.0         2      -14           51.0    0    0    0     155\n",
            "\n",
            "[15552 rows x 8 columns]\n",
            "Inferred frequency: H. Using this value for the 'freq' parameter.\n",
            "Generating train split: 8 examples [00:00, 52.43 examples/s]\n",
            "Saving the dataset (1/1 shards): 100% 8/8 [00:00<00:00, 2273.80 examples/s]\n"
          ]
        }
      ]
    },
    {
      "cell_type": "code",
      "source": [
        "#!mv content/uni2ts/cli content/uni2ts/src/uni2ts/"
      ],
      "metadata": {
        "colab": {
          "base_uri": "https://localhost:8080/"
        },
        "id": "903wnpN-PDG2",
        "outputId": "41b746e7-3413-4a4a-b4d6-bf697ae867f1"
      },
      "execution_count": null,
      "outputs": [
        {
          "output_type": "stream",
          "name": "stdout",
          "text": [
            "/content\n"
          ]
        }
      ]
    },
    {
      "cell_type": "code",
      "source": [
        "# Step 3 (move cli dir to src/uni2ts first!!!!)\n",
        "# Set Batch size here /content/uni2ts/src/uni2ts/cli/conf/finetune/default.yaml to lower value\n",
        "# For moirai large with A100 40GB RAM use 16 as batch size in val_dataloader and train_dataloader section\n",
        "\n",
        "!python -m uni2ts.cli.train -cp conf/finetune run_name=example_run model=moirai_1.1_R_large data=etth1 val_data=etth1"
      ],
      "metadata": {
        "id": "KqmjyQbeCqjU"
      },
      "execution_count": null,
      "outputs": []
    },
    {
      "cell_type": "code",
      "source": [
        "# Use Hydra's Sweeping Feature for Hyperparameter Search\n",
        "!python -m uni2ts.cli.train --multirun -cp conf/finetune run_name=example_run model=moirai_1.1_R_large data=customdataset val_data=customdataset \\\n",
        "  trainer.max_epochs=15 \\\n",
        "  model.lr=1e-5,1e-6 \\\n",
        "  train_dataloader.batch_size=8 \\\n",
        "  val_dataloader.batch_size=8"
      ],
      "metadata": {
        "colab": {
          "base_uri": "https://localhost:8080/"
        },
        "id": "2z-quJtw5FZL",
        "outputId": "8aebf714-9baa-4777-a5df-ccb61f59207d"
      },
      "execution_count": 59,
      "outputs": [
        {
          "output_type": "stream",
          "name": "stdout",
          "text": [
            "[2025-02-06 10:39:59,431][HYDRA] Launching 2 jobs locally\n",
            "[2025-02-06 10:39:59,432][HYDRA] \t#0 : run_name=example_run model=moirai_1.1_R_large data=customdataset val_data=customdataset trainer.max_epochs=15 model.lr=1e-05 train_dataloader.batch_size=8 val_dataloader.batch_size=8\n",
            "config.json: 100% 684/684 [00:00<00:00, 4.87MB/s]\n",
            "model.safetensors: 100% 1.24G/1.24G [00:52<00:00, 23.8MB/s]\n",
            "GPU available: True (cuda), used: True\n",
            "TPU available: False, using: 0 TPU cores\n",
            "HPU available: False, using: 0 HPUs\n",
            "[2025-02-06 10:40:56,539][datasets][INFO] - PyTorch version 2.4.1 available.\n",
            "[2025-02-06 10:40:56,540][datasets][INFO] - TensorFlow version 2.18.0 available.\n",
            "[2025-02-06 10:40:56,540][datasets][INFO] - JAX version 0.4.33 available.\n",
            "Seed set to 0\n",
            "2025-02-06 10:40:57.101290: E external/local_xla/xla/stream_executor/cuda/cuda_fft.cc:477] Unable to register cuFFT factory: Attempting to register factory for plugin cuFFT when one has already been registered\n",
            "WARNING: All log messages before absl::InitializeLog() is called are written to STDERR\n",
            "E0000 00:00:1738838457.123592   14334 cuda_dnn.cc:8310] Unable to register cuDNN factory: Attempting to register factory for plugin cuDNN when one has already been registered\n",
            "E0000 00:00:1738838457.130519   14334 cuda_blas.cc:1418] Unable to register cuBLAS factory: Attempting to register factory for plugin cuBLAS when one has already been registered\n",
            "LOCAL_RANK: 0 - CUDA_VISIBLE_DEVICES: [0]\n",
            "\n",
            "  | Name   | Type         | Params | Mode \n",
            "------------------------------------------------\n",
            "0 | module | MoiraiModule | 310 M  | train\n",
            "------------------------------------------------\n",
            "310 M     Trainable params\n",
            "0         Non-trainable params\n",
            "310 M     Total params\n",
            "1,243.882 Total estimated model params size (MB)\n",
            "481       Modules in train mode\n",
            "0         Modules in eval mode\n",
            "Epoch 0: |          | 100/? [02:01<00:00,  0.83it/s, v_num=0]\n",
            "Validation: |          | 0/? [00:00<?, ?it/s]\u001b[A\n",
            "Validation: |          | 0/? [00:00<?, ?it/s]\u001b[A\n",
            "Validation DataLoader 0: |          | 0/? [00:00<?, ?it/s]\u001b[A\n",
            "Epoch 0: |          | 100/? [02:02<00:00,  0.82it/s, v_num=0, val/PackedNLLLoss=4.030, train/PackedNLLLoss=3.270]Metric val/PackedNLLLoss improved. New best score: 4.027\n",
            "Epoch 1: |          | 100/? [02:01<00:00,  0.83it/s, v_num=0, val/PackedNLLLoss=4.030, train/PackedNLLLoss=3.270]\n",
            "Validation: |          | 0/? [00:00<?, ?it/s]\u001b[A\n",
            "Validation: |          | 0/? [00:00<?, ?it/s]\u001b[A\n",
            "Validation DataLoader 0: |          | 0/? [00:00<?, ?it/s]\u001b[A\n",
            "Epoch 2: |          | 100/? [02:00<00:00,  0.83it/s, v_num=0, val/PackedNLLLoss=4.560, train/PackedNLLLoss=3.050]\n",
            "Validation: |          | 0/? [00:00<?, ?it/s]\u001b[A\n",
            "Validation: |          | 0/? [00:00<?, ?it/s]\u001b[A\n",
            "Validation DataLoader 0: |          | 0/? [00:00<?, ?it/s]\u001b[A\n",
            "Epoch 3: |          | 100/? [02:00<00:00,  0.83it/s, v_num=0, val/PackedNLLLoss=4.600, train/PackedNLLLoss=2.960]\n",
            "Validation: |          | 0/? [00:00<?, ?it/s]\u001b[A\n",
            "Validation: |          | 0/? [00:00<?, ?it/s]\u001b[A\n",
            "Validation DataLoader 0: |          | 0/? [00:00<?, ?it/s]\u001b[A\n",
            "Epoch 3: |          | 100/? [02:02<00:00,  0.81it/s, v_num=0, val/PackedNLLLoss=4.590, train/PackedNLLLoss=2.800]Monitored metric val/PackedNLLLoss did not improve in the last 3 records. Best score: 4.027. Signaling Trainer to stop.\n",
            "Epoch 3: |          | 100/? [02:02<00:00,  0.81it/s, v_num=0, val/PackedNLLLoss=4.590, train/PackedNLLLoss=2.800]\n",
            "[2025-02-06 10:49:36,755][HYDRA] \t#1 : run_name=example_run model=moirai_1.1_R_large data=customdataset val_data=customdataset trainer.max_epochs=15 model.lr=1e-06 train_dataloader.batch_size=8 val_dataloader.batch_size=8\n",
            "GPU available: True (cuda), used: True\n",
            "TPU available: False, using: 0 TPU cores\n",
            "HPU available: False, using: 0 HPUs\n",
            "Seed set to 0\n",
            "LOCAL_RANK: 0 - CUDA_VISIBLE_DEVICES: [0]\n",
            "\n",
            "  | Name   | Type         | Params | Mode \n",
            "------------------------------------------------\n",
            "0 | module | MoiraiModule | 310 M  | train\n",
            "------------------------------------------------\n",
            "310 M     Trainable params\n",
            "0         Non-trainable params\n",
            "310 M     Total params\n",
            "1,243.882 Total estimated model params size (MB)\n",
            "481       Modules in train mode\n",
            "0         Modules in eval mode\n",
            "Epoch 0: |          | 100/? [02:01<00:00,  0.83it/s, v_num=0]\n",
            "Validation: |          | 0/? [00:00<?, ?it/s]\u001b[A\n",
            "Validation: |          | 0/? [00:00<?, ?it/s]\u001b[A\n",
            "Validation DataLoader 0: |          | 0/? [00:00<?, ?it/s]\u001b[A\n",
            "Epoch 0: |          | 100/? [02:02<00:00,  0.82it/s, v_num=0, val/PackedNLLLoss=4.030, train/PackedNLLLoss=2.910]Metric val/PackedNLLLoss improved. New best score: 4.033\n",
            "Epoch 1: |          | 100/? [02:00<00:00,  0.83it/s, v_num=0, val/PackedNLLLoss=4.030, train/PackedNLLLoss=2.910]\n",
            "Validation: |          | 0/? [00:00<?, ?it/s]\u001b[A\n",
            "Validation: |          | 0/? [00:00<?, ?it/s]\u001b[A\n",
            "Validation DataLoader 0: |          | 0/? [00:00<?, ?it/s]\u001b[A\n",
            "Epoch 2: |          | 100/? [02:00<00:00,  0.83it/s, v_num=0, val/PackedNLLLoss=4.510, train/PackedNLLLoss=2.760]\n",
            "Validation: |          | 0/? [00:00<?, ?it/s]\u001b[A\n",
            "Validation: |          | 0/? [00:00<?, ?it/s]\u001b[A\n",
            "Validation DataLoader 0: |          | 0/? [00:00<?, ?it/s]\u001b[A\n",
            "Epoch 3: |          | 100/? [02:00<00:00,  0.83it/s, v_num=0, val/PackedNLLLoss=4.470, train/PackedNLLLoss=2.680]\n",
            "Validation: |          | 0/? [00:00<?, ?it/s]\u001b[A\n",
            "Validation: |          | 0/? [00:00<?, ?it/s]\u001b[A\n",
            "Validation DataLoader 0: |          | 0/? [00:00<?, ?it/s]\u001b[A\n",
            "Epoch 3: |          | 100/? [02:02<00:00,  0.81it/s, v_num=0, val/PackedNLLLoss=4.450, train/PackedNLLLoss=2.630]Monitored metric val/PackedNLLLoss did not improve in the last 3 records. Best score: 4.033. Signaling Trainer to stop.\n",
            "Epoch 3: |          | 100/? [02:02<00:00,  0.81it/s, v_num=0, val/PackedNLLLoss=4.450, train/PackedNLLLoss=2.630]\n",
            "/usr/lib/python3.11/multiprocessing/resource_tracker.py:254: UserWarning: resource_tracker: There appear to be 44 leaked semaphore objects to clean up at shutdown\n",
            "  warnings.warn('resource_tracker: There appear to be %d '\n"
          ]
        }
      ]
    },
    {
      "cell_type": "code",
      "source": [
        "# Show Tensorboard with results\n",
        "%load_ext tensorboard\n",
        "%tensorboard --logdir /content/multirun\n"
      ],
      "metadata": {
        "id": "UMAEx64Har1x"
      },
      "execution_count": null,
      "outputs": []
    },
    {
      "cell_type": "code",
      "source": [
        "#Export outputs\n",
        "!zip -r outputs.zip /content/outputs"
      ],
      "metadata": {
        "id": "Ppn9_O3-WJJ0"
      },
      "execution_count": null,
      "outputs": []
    },
    {
      "cell_type": "code",
      "source": [
        "# Evaluation\n",
        "!python -m uni2ts.cli.eval run_name=example_eval_1 model=moirai_1.0_R_small model.patch_size=32 model.context_length=1000 data=etth1_val"
      ],
      "metadata": {
        "id": "t_B_t-0YOvLq"
      },
      "execution_count": null,
      "outputs": []
    },
    {
      "cell_type": "code",
      "source": [
        "import gc\n",
        "\n",
        "# Invoke garbage collector\n",
        "gc.collect()\n",
        "\n",
        "# Clear GPU cache\n",
        "torch.cuda.empty_cache()"
      ],
      "metadata": {
        "id": "nwrqN3dk8vB2"
      },
      "execution_count": null,
      "outputs": []
    }
  ]
}